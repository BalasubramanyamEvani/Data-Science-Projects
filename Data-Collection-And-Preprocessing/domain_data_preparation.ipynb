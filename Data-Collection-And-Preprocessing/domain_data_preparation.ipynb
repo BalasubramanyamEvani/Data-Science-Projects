{
 "cells": [
  {
   "cell_type": "markdown",
   "metadata": {},
   "source": [
    "# Project 4: Domain Data Preparation\n",
    "This project will help you familiarize with common data collection and preprocessing tasks. We will mine public text data related to the topic of coronavirus from different sources, and process and combine them to a single corpus, on which we can perform feature engineering to prepare for subsequent analyses.\n",
    "\n",
    "If you are running this notebook on Google Colab, use the provided code in the next section to set up your environment. If you are running this notebook locally, you can delete the Environment setup section and start at the Package Import section."
   ]
  },
  {
   "cell_type": "markdown",
   "metadata": {},
   "source": [
    "### Environment setup (Google Colab only)\n",
    "After downloading and extracting the handout tar file, upload all of the handout files to Colab. Run the following cell to list all the file names in the current directory. Make sure you can see `domain_data_preparation.ipynb`, `local_test_refs`, `submitter`, `references`, `pdfs` and `requirements.txt`."
   ]
  },
  {
   "cell_type": "code",
   "execution_count": 1,
   "metadata": {
    "tags": [
     "excluded_from_script"
    ]
   },
   "outputs": [
    {
     "data": {
      "text/plain": [
       "['domain_data_preparation.ipynb',\n",
       " 'chromedriver',\n",
       " 'requirements.txt',\n",
       " 'references',\n",
       " 'submitter',\n",
       " 'pdfs',\n",
       " '.ipynb_checkpoints',\n",
       " 'local_test_refs']"
      ]
     },
     "execution_count": 1,
     "metadata": {},
     "output_type": "execute_result"
    }
   ],
   "source": [
    "import os\n",
    "os.listdir()"
   ]
  },
  {
   "cell_type": "markdown",
   "metadata": {},
   "source": [
    "Now install all the Python packages needed for the project."
   ]
  },
  {
   "cell_type": "code",
   "execution_count": 2,
   "metadata": {
    "tags": [
     "excluded_from_script"
    ]
   },
   "outputs": [
    {
     "name": "stdout",
     "output_type": "stream",
     "text": [
      "Requirement already satisfied: numpy==1.21.2 in /home/bala/.local/lib/python3.8/site-packages (from -r requirements.txt (line 1)) (1.21.2)\n",
      "Requirement already satisfied: pandas==1.3.3 in /home/bala/.local/lib/python3.8/site-packages (from -r requirements.txt (line 2)) (1.3.3)\n",
      "Requirement already satisfied: nltk==3.6.3 in /home/bala/.local/lib/python3.8/site-packages (from -r requirements.txt (line 3)) (3.6.3)\n",
      "Requirement already satisfied: beautifulsoup4==4.10.0 in /home/bala/.local/lib/python3.8/site-packages (from -r requirements.txt (line 4)) (4.10.0)\n",
      "Requirement already satisfied: selenium==3.141.0 in /home/bala/.local/lib/python3.8/site-packages (from -r requirements.txt (line 5)) (3.141.0)\n",
      "Requirement already satisfied: requests==2.26.0 in /home/bala/.local/lib/python3.8/site-packages (from -r requirements.txt (line 6)) (2.26.0)\n",
      "Requirement already satisfied: pdfminer.six==20201018 in /home/bala/.local/lib/python3.8/site-packages (from -r requirements.txt (line 7)) (20201018)\n",
      "Requirement already satisfied: jupyter==1.0.0 in /home/bala/.local/lib/python3.8/site-packages (from -r requirements.txt (line 8)) (1.0.0)\n",
      "Requirement already satisfied: python-dateutil>=2.7.3 in /home/bala/.local/lib/python3.8/site-packages (from pandas==1.3.3->-r requirements.txt (line 2)) (2.8.2)\n",
      "Requirement already satisfied: pytz>=2017.3 in /home/bala/.local/lib/python3.8/site-packages (from pandas==1.3.3->-r requirements.txt (line 2)) (2021.3)\n",
      "Requirement already satisfied: tqdm in /home/bala/.local/lib/python3.8/site-packages (from nltk==3.6.3->-r requirements.txt (line 3)) (4.64.0)\n",
      "Requirement already satisfied: click in /home/bala/.local/lib/python3.8/site-packages (from nltk==3.6.3->-r requirements.txt (line 3)) (8.0.3)\n",
      "Requirement already satisfied: regex in /home/bala/.local/lib/python3.8/site-packages (from nltk==3.6.3->-r requirements.txt (line 3)) (2022.4.24)\n",
      "Requirement already satisfied: joblib in /usr/local/lib/python3.8/dist-packages (from nltk==3.6.3->-r requirements.txt (line 3)) (1.1.0)\n",
      "Requirement already satisfied: soupsieve>1.2 in /home/bala/.local/lib/python3.8/site-packages (from beautifulsoup4==4.10.0->-r requirements.txt (line 4)) (2.3.2.post1)\n",
      "Requirement already satisfied: urllib3 in /usr/lib/python3/dist-packages (from selenium==3.141.0->-r requirements.txt (line 5)) (1.25.8)\n",
      "Requirement already satisfied: idna<4,>=2.5; python_version >= \"3\" in /usr/lib/python3/dist-packages (from requests==2.26.0->-r requirements.txt (line 6)) (2.8)\n",
      "Requirement already satisfied: certifi>=2017.4.17 in /usr/lib/python3/dist-packages (from requests==2.26.0->-r requirements.txt (line 6)) (2019.11.28)\n",
      "Requirement already satisfied: charset-normalizer~=2.0.0; python_version >= \"3\" in /home/bala/.local/lib/python3.8/site-packages (from requests==2.26.0->-r requirements.txt (line 6)) (2.0.12)\n",
      "Requirement already satisfied: cryptography in /usr/lib/python3/dist-packages (from pdfminer.six==20201018->-r requirements.txt (line 7)) (2.8)\n",
      "Requirement already satisfied: sortedcontainers in /home/bala/.local/lib/python3.8/site-packages (from pdfminer.six==20201018->-r requirements.txt (line 7)) (2.4.0)\n",
      "Requirement already satisfied: chardet; python_version > \"3.0\" in /usr/lib/python3/dist-packages (from pdfminer.six==20201018->-r requirements.txt (line 7)) (3.0.4)\n",
      "Requirement already satisfied: ipykernel in /home/bala/.local/lib/python3.8/site-packages (from jupyter==1.0.0->-r requirements.txt (line 8)) (6.8.0)\n",
      "Requirement already satisfied: qtconsole in /home/bala/.local/lib/python3.8/site-packages (from jupyter==1.0.0->-r requirements.txt (line 8)) (5.3.0)\n",
      "Requirement already satisfied: nbconvert in /home/bala/.local/lib/python3.8/site-packages (from jupyter==1.0.0->-r requirements.txt (line 8)) (6.4.2)\n",
      "Requirement already satisfied: ipywidgets in /home/bala/.local/lib/python3.8/site-packages (from jupyter==1.0.0->-r requirements.txt (line 8)) (7.7.0)\n",
      "Requirement already satisfied: jupyter-console in /home/bala/.local/lib/python3.8/site-packages (from jupyter==1.0.0->-r requirements.txt (line 8)) (6.4.3)\n",
      "Requirement already satisfied: notebook in /home/bala/.local/lib/python3.8/site-packages (from jupyter==1.0.0->-r requirements.txt (line 8)) (6.4.8)\n",
      "Requirement already satisfied: six>=1.5 in /usr/lib/python3/dist-packages (from python-dateutil>=2.7.3->pandas==1.3.3->-r requirements.txt (line 2)) (1.14.0)\n",
      "Requirement already satisfied: nest-asyncio in /home/bala/.local/lib/python3.8/site-packages (from ipykernel->jupyter==1.0.0->-r requirements.txt (line 8)) (1.5.4)\n",
      "Requirement already satisfied: traitlets<6.0,>=5.1.0 in /home/bala/.local/lib/python3.8/site-packages (from ipykernel->jupyter==1.0.0->-r requirements.txt (line 8)) (5.1.1)\n",
      "Requirement already satisfied: tornado<7.0,>=4.2 in /home/bala/.local/lib/python3.8/site-packages (from ipykernel->jupyter==1.0.0->-r requirements.txt (line 8)) (6.1)\n",
      "Requirement already satisfied: ipython>=7.23.1 in /home/bala/.local/lib/python3.8/site-packages (from ipykernel->jupyter==1.0.0->-r requirements.txt (line 8)) (8.0.1)\n",
      "Requirement already satisfied: debugpy<2.0,>=1.0.0 in /home/bala/.local/lib/python3.8/site-packages (from ipykernel->jupyter==1.0.0->-r requirements.txt (line 8)) (1.5.1)\n",
      "Requirement already satisfied: matplotlib-inline<0.2.0,>=0.1.0 in /home/bala/.local/lib/python3.8/site-packages (from ipykernel->jupyter==1.0.0->-r requirements.txt (line 8)) (0.1.3)\n",
      "Requirement already satisfied: jupyter-client<8.0 in /home/bala/.local/lib/python3.8/site-packages (from ipykernel->jupyter==1.0.0->-r requirements.txt (line 8)) (7.1.2)\n",
      "Requirement already satisfied: pyzmq>=17.1 in /home/bala/.local/lib/python3.8/site-packages (from qtconsole->jupyter==1.0.0->-r requirements.txt (line 8)) (22.3.0)\n",
      "Requirement already satisfied: pygments in /home/bala/.local/lib/python3.8/site-packages (from qtconsole->jupyter==1.0.0->-r requirements.txt (line 8)) (2.11.2)\n",
      "Requirement already satisfied: ipython-genutils in /home/bala/.local/lib/python3.8/site-packages (from qtconsole->jupyter==1.0.0->-r requirements.txt (line 8)) (0.2.0)\n",
      "Requirement already satisfied: qtpy>=2.0.1 in /home/bala/.local/lib/python3.8/site-packages (from qtconsole->jupyter==1.0.0->-r requirements.txt (line 8)) (2.1.0)\n",
      "Requirement already satisfied: jupyter-core in /home/bala/.local/lib/python3.8/site-packages (from qtconsole->jupyter==1.0.0->-r requirements.txt (line 8)) (4.9.1)\n",
      "Requirement already satisfied: jinja2>=2.4 in /home/bala/.local/lib/python3.8/site-packages (from nbconvert->jupyter==1.0.0->-r requirements.txt (line 8)) (3.0.3)\n",
      "Requirement already satisfied: entrypoints>=0.2.2 in /usr/lib/python3/dist-packages (from nbconvert->jupyter==1.0.0->-r requirements.txt (line 8)) (0.3)\n",
      "Requirement already satisfied: bleach in /home/bala/.local/lib/python3.8/site-packages (from nbconvert->jupyter==1.0.0->-r requirements.txt (line 8)) (4.1.0)\n",
      "Requirement already satisfied: testpath in /home/bala/.local/lib/python3.8/site-packages (from nbconvert->jupyter==1.0.0->-r requirements.txt (line 8)) (0.5.0)\n",
      "Requirement already satisfied: jupyterlab-pygments in /home/bala/.local/lib/python3.8/site-packages (from nbconvert->jupyter==1.0.0->-r requirements.txt (line 8)) (0.1.2)\n",
      "Requirement already satisfied: nbclient<0.6.0,>=0.5.0 in /home/bala/.local/lib/python3.8/site-packages (from nbconvert->jupyter==1.0.0->-r requirements.txt (line 8)) (0.5.10)\n",
      "Requirement already satisfied: mistune<2,>=0.8.1 in /home/bala/.local/lib/python3.8/site-packages (from nbconvert->jupyter==1.0.0->-r requirements.txt (line 8)) (0.8.4)\n",
      "Requirement already satisfied: pandocfilters>=1.4.1 in /home/bala/.local/lib/python3.8/site-packages (from nbconvert->jupyter==1.0.0->-r requirements.txt (line 8)) (1.5.0)\n",
      "Requirement already satisfied: defusedxml in /home/bala/.local/lib/python3.8/site-packages (from nbconvert->jupyter==1.0.0->-r requirements.txt (line 8)) (0.7.1)\n",
      "Requirement already satisfied: nbformat>=4.4 in /home/bala/.local/lib/python3.8/site-packages (from nbconvert->jupyter==1.0.0->-r requirements.txt (line 8)) (5.1.3)\n",
      "Requirement already satisfied: widgetsnbextension~=3.6.0 in /home/bala/.local/lib/python3.8/site-packages (from ipywidgets->jupyter==1.0.0->-r requirements.txt (line 8)) (3.6.0)\n",
      "Requirement already satisfied: jupyterlab-widgets>=1.0.0; python_version >= \"3.6\" in /home/bala/.local/lib/python3.8/site-packages (from ipywidgets->jupyter==1.0.0->-r requirements.txt (line 8)) (1.1.0)\n",
      "Requirement already satisfied: prompt-toolkit!=3.0.0,!=3.0.1,<3.1.0,>=2.0.0 in /home/bala/.local/lib/python3.8/site-packages (from jupyter-console->jupyter==1.0.0->-r requirements.txt (line 8)) (3.0.26)\n",
      "Requirement already satisfied: Send2Trash>=1.8.0 in /home/bala/.local/lib/python3.8/site-packages (from notebook->jupyter==1.0.0->-r requirements.txt (line 8)) (1.8.0)\n",
      "Requirement already satisfied: argon2-cffi in /home/bala/.local/lib/python3.8/site-packages (from notebook->jupyter==1.0.0->-r requirements.txt (line 8)) (21.3.0)\n",
      "Requirement already satisfied: terminado>=0.8.3 in /home/bala/.local/lib/python3.8/site-packages (from notebook->jupyter==1.0.0->-r requirements.txt (line 8)) (0.13.1)\n",
      "Requirement already satisfied: prometheus-client in /home/bala/.local/lib/python3.8/site-packages (from notebook->jupyter==1.0.0->-r requirements.txt (line 8)) (0.13.1)\n",
      "Requirement already satisfied: decorator in /home/bala/.local/lib/python3.8/site-packages (from ipython>=7.23.1->ipykernel->jupyter==1.0.0->-r requirements.txt (line 8)) (5.1.1)\n",
      "Requirement already satisfied: black in /home/bala/.local/lib/python3.8/site-packages (from ipython>=7.23.1->ipykernel->jupyter==1.0.0->-r requirements.txt (line 8)) (22.1.0)\n",
      "Requirement already satisfied: pickleshare in /home/bala/.local/lib/python3.8/site-packages (from ipython>=7.23.1->ipykernel->jupyter==1.0.0->-r requirements.txt (line 8)) (0.7.5)\n",
      "Requirement already satisfied: jedi>=0.16 in /home/bala/.local/lib/python3.8/site-packages (from ipython>=7.23.1->ipykernel->jupyter==1.0.0->-r requirements.txt (line 8)) (0.18.1)\n",
      "Requirement already satisfied: pexpect>4.3; sys_platform != \"win32\" in /usr/lib/python3/dist-packages (from ipython>=7.23.1->ipykernel->jupyter==1.0.0->-r requirements.txt (line 8)) (4.6.0)\n",
      "Requirement already satisfied: backcall in /home/bala/.local/lib/python3.8/site-packages (from ipython>=7.23.1->ipykernel->jupyter==1.0.0->-r requirements.txt (line 8)) (0.2.0)\n",
      "Requirement already satisfied: stack-data in /home/bala/.local/lib/python3.8/site-packages (from ipython>=7.23.1->ipykernel->jupyter==1.0.0->-r requirements.txt (line 8)) (0.1.4)\n",
      "Requirement already satisfied: setuptools>=18.5 in /usr/lib/python3/dist-packages (from ipython>=7.23.1->ipykernel->jupyter==1.0.0->-r requirements.txt (line 8)) (45.2.0)\n",
      "Requirement already satisfied: packaging in /home/bala/.local/lib/python3.8/site-packages (from qtpy>=2.0.1->qtconsole->jupyter==1.0.0->-r requirements.txt (line 8)) (21.3)\n",
      "Requirement already satisfied: MarkupSafe>=2.0 in /home/bala/.local/lib/python3.8/site-packages (from jinja2>=2.4->nbconvert->jupyter==1.0.0->-r requirements.txt (line 8)) (2.0.1)\n",
      "Requirement already satisfied: webencodings in /home/bala/.local/lib/python3.8/site-packages (from bleach->nbconvert->jupyter==1.0.0->-r requirements.txt (line 8)) (0.5.1)\n",
      "Requirement already satisfied: jsonschema!=2.5.0,>=2.4 in /home/bala/.local/lib/python3.8/site-packages (from nbformat>=4.4->nbconvert->jupyter==1.0.0->-r requirements.txt (line 8)) (4.4.0)\n",
      "Requirement already satisfied: wcwidth in /home/bala/.local/lib/python3.8/site-packages (from prompt-toolkit!=3.0.0,!=3.0.1,<3.1.0,>=2.0.0->jupyter-console->jupyter==1.0.0->-r requirements.txt (line 8)) (0.2.5)\n",
      "Requirement already satisfied: argon2-cffi-bindings in /home/bala/.local/lib/python3.8/site-packages (from argon2-cffi->notebook->jupyter==1.0.0->-r requirements.txt (line 8)) (21.2.0)\n",
      "Requirement already satisfied: ptyprocess; os_name != \"nt\" in /home/bala/.local/lib/python3.8/site-packages (from terminado>=0.8.3->notebook->jupyter==1.0.0->-r requirements.txt (line 8)) (0.7.0)\n",
      "Requirement already satisfied: mypy-extensions>=0.4.3 in /home/bala/.local/lib/python3.8/site-packages (from black->ipython>=7.23.1->ipykernel->jupyter==1.0.0->-r requirements.txt (line 8)) (0.4.3)\n",
      "Requirement already satisfied: platformdirs>=2 in /home/bala/.local/lib/python3.8/site-packages (from black->ipython>=7.23.1->ipykernel->jupyter==1.0.0->-r requirements.txt (line 8)) (2.4.0)\n",
      "Requirement already satisfied: pathspec>=0.9.0 in /home/bala/.local/lib/python3.8/site-packages (from black->ipython>=7.23.1->ipykernel->jupyter==1.0.0->-r requirements.txt (line 8)) (0.9.0)\n",
      "Requirement already satisfied: tomli>=1.1.0 in /home/bala/.local/lib/python3.8/site-packages (from black->ipython>=7.23.1->ipykernel->jupyter==1.0.0->-r requirements.txt (line 8)) (2.0.0)\n",
      "Requirement already satisfied: typing-extensions>=3.10.0.0; python_version < \"3.10\" in /home/bala/.local/lib/python3.8/site-packages (from black->ipython>=7.23.1->ipykernel->jupyter==1.0.0->-r requirements.txt (line 8)) (4.0.1)\n",
      "Requirement already satisfied: parso<0.9.0,>=0.8.0 in /home/bala/.local/lib/python3.8/site-packages (from jedi>=0.16->ipython>=7.23.1->ipykernel->jupyter==1.0.0->-r requirements.txt (line 8)) (0.8.3)\n",
      "Requirement already satisfied: asttokens in /home/bala/.local/lib/python3.8/site-packages (from stack-data->ipython>=7.23.1->ipykernel->jupyter==1.0.0->-r requirements.txt (line 8)) (2.0.5)\n",
      "Requirement already satisfied: executing in /home/bala/.local/lib/python3.8/site-packages (from stack-data->ipython>=7.23.1->ipykernel->jupyter==1.0.0->-r requirements.txt (line 8)) (0.8.2)\n",
      "Requirement already satisfied: pure-eval in /home/bala/.local/lib/python3.8/site-packages (from stack-data->ipython>=7.23.1->ipykernel->jupyter==1.0.0->-r requirements.txt (line 8)) (0.2.2)\n",
      "Requirement already satisfied: pyparsing!=3.0.5,>=2.0.2 in /home/bala/.local/lib/python3.8/site-packages (from packaging->qtpy>=2.0.1->qtconsole->jupyter==1.0.0->-r requirements.txt (line 8)) (3.0.7)\n",
      "Requirement already satisfied: importlib-resources>=1.4.0; python_version < \"3.9\" in /home/bala/.local/lib/python3.8/site-packages (from jsonschema!=2.5.0,>=2.4->nbformat>=4.4->nbconvert->jupyter==1.0.0->-r requirements.txt (line 8)) (5.4.0)\n",
      "Requirement already satisfied: pyrsistent!=0.17.0,!=0.17.1,!=0.17.2,>=0.14.0 in /home/bala/.local/lib/python3.8/site-packages (from jsonschema!=2.5.0,>=2.4->nbformat>=4.4->nbconvert->jupyter==1.0.0->-r requirements.txt (line 8)) (0.18.1)\n",
      "Requirement already satisfied: attrs>=17.4.0 in /home/bala/.local/lib/python3.8/site-packages (from jsonschema!=2.5.0,>=2.4->nbformat>=4.4->nbconvert->jupyter==1.0.0->-r requirements.txt (line 8)) (21.4.0)\n",
      "Requirement already satisfied: cffi>=1.0.1 in /home/bala/.local/lib/python3.8/site-packages (from argon2-cffi-bindings->argon2-cffi->notebook->jupyter==1.0.0->-r requirements.txt (line 8)) (1.15.0)\n",
      "Requirement already satisfied: zipp>=3.1.0; python_version < \"3.10\" in /home/bala/.local/lib/python3.8/site-packages (from importlib-resources>=1.4.0; python_version < \"3.9\"->jsonschema!=2.5.0,>=2.4->nbformat>=4.4->nbconvert->jupyter==1.0.0->-r requirements.txt (line 8)) (3.7.0)\n",
      "Requirement already satisfied: pycparser in /home/bala/.local/lib/python3.8/site-packages (from cffi>=1.0.1->argon2-cffi-bindings->argon2-cffi->notebook->jupyter==1.0.0->-r requirements.txt (line 8)) (2.21)\n"
     ]
    }
   ],
   "source": [
    "!pip install -r requirements.txt"
   ]
  },
  {
   "cell_type": "markdown",
   "metadata": {},
   "source": [
    "Finally, run the following code to get a Chrome webdriver in the current directory:"
   ]
  },
  {
   "cell_type": "code",
   "execution_count": 3,
   "metadata": {
    "tags": [
     "excluded_from_script"
    ]
   },
   "outputs": [
    {
     "name": "stdout",
     "output_type": "stream",
     "text": [
      "Reading package lists... Done\n",
      "E: Could not open lock file /var/lib/apt/lists/lock - open (13: Permission denied)\n",
      "E: Unable to lock directory /var/lib/apt/lists/\n",
      "W: Problem unlinking the file /var/cache/apt/pkgcache.bin - RemoveCaches (13: Permission denied)\n",
      "W: Problem unlinking the file /var/cache/apt/srcpkgcache.bin - RemoveCaches (13: Permission denied)\n",
      "\u001b[1;31mE: \u001b[0mCould not open lock file /var/lib/dpkg/lock-frontend - open (13: Permission denied)\u001b[0m\n",
      "\u001b[1;31mE: \u001b[0mUnable to acquire the dpkg frontend lock (/var/lib/dpkg/lock-frontend), are you root?\u001b[0m\n"
     ]
    }
   ],
   "source": [
    "!apt-get update\n",
    "!apt install chromium-chromedriver\n",
    "!cp /usr/lib/chromium-browser/chromedriver ."
   ]
  },
  {
   "cell_type": "markdown",
   "metadata": {},
   "source": [
    "Now you can import the packages and begin the project!"
   ]
  },
  {
   "cell_type": "markdown",
   "metadata": {},
   "source": [
    "### Package import"
   ]
  },
  {
   "cell_type": "code",
   "execution_count": 4,
   "metadata": {},
   "outputs": [],
   "source": [
    "import pandas as pd\n",
    "import numpy as np\n",
    "import requests\n",
    "import json, collections, time, re, string, os\n",
    "from datetime import datetime\n",
    "\n",
    "import nltk\n",
    "from nltk.stem.wordnet import WordNetLemmatizer \n",
    "from nltk.corpus import wordnet\n",
    "\n",
    "import bs4\n",
    "from bs4 import BeautifulSoup\n",
    "from selenium import webdriver\n",
    "from selenium.common import exceptions\n",
    "\n",
    "from pdfminer import high_level"
   ]
  },
  {
   "cell_type": "code",
   "execution_count": 5,
   "metadata": {
    "tags": [
     "excluded_from_script"
    ]
   },
   "outputs": [],
   "source": [
    "# this cell has been tagged with excluded_from_script\n",
    "# it will not be run by the autograder\n",
    "%matplotlib inline"
   ]
  },
  {
   "cell_type": "markdown",
   "metadata": {},
   "source": [
    "## Part A: Text Processing"
   ]
  },
  {
   "cell_type": "markdown",
   "metadata": {},
   "source": [
    "Text data on the internet is very messy.  Typically there is a fair amount of processing work to do once you have collected any sizeable chunk of text data, in order to have it ready for subsequent analyses. To get you familiar with this kind of data, this section will walk you through some common processing tasks:\n",
    "\n",
    "The first step is to import the lemmatizer and set of English stopwords from `nltk`:"
   ]
  },
  {
   "cell_type": "code",
   "execution_count": 6,
   "metadata": {},
   "outputs": [],
   "source": [
    "nltk.download(\"stopwords\", quiet = True)\n",
    "nltk.download(\"wordnet\", quiet = True)\n",
    "nltk.download(\"punkt\", quiet = True)\n",
    "nltk.download('averaged_perceptron_tagger', quiet = True)\n",
    "lemmatizer = WordNetLemmatizer()\n",
    "english_stopwords = set(nltk.corpus.stopwords.words('english'))"
   ]
  },
  {
   "cell_type": "markdown",
   "metadata": {},
   "source": [
    "### Question 1: Text cleaning and tokenization\n",
    "Implement the three functions `clean_string`, `tokenize` and `lemmatize` that perform the following text preprocessing tasks:\n",
    "\n",
    "1. `clean_text` should:\n",
    "    * convert the string to lower case.\n",
    "    * remove any instance of `'s` that is either followed by any whitespace character, or at the end of the string: `teacher's help` becomes `teacher help`, and `children's` becomes `children`.\n",
    "    * remove apostrophe character `'`: `don't` becomes `dont`. For simplicity we will only consider the character `'` as apostrophe (so `’` is not).\n",
    "    * remove leading and trailing space.\n",
    "\n",
    "1. `tokenize` should:\n",
    "    * use `nltk.word_tokenize` to tokenize the input text.\n",
    "    * further break tokens at characters which are not digits 0-9 and not present in `string.ascii_letters`. For example, `a_b_c` becomes `['a', 'b', 'c']`.\n",
    "    * maintain the token order as it appears in the original string.\n",
    "\n",
    "1. `lemmatize` should:\n",
    "    * lemmatize each token individually.\n",
    "    * remove tokens that are stopwords or contain fewer than two characters (these two cases should be checked after the lemmatization step).\n",
    "    \n",
    "**Notes**:\n",
    "* When lemmatizing a word, you should also specify the part-of-speech `pos` parameter. This can be obtained by calling `nltk.pos_tag` and using the first returned tag (in case there are multiple possibilities). You can interpret the returned tag as follows:\n",
    "    * If it starts with \"J\", it is an adjective.\n",
    "    * If it starts with \"V\", it is a verb.\n",
    "    * If it starts with \"R\", it is an adverb.\n",
    "    * Otherwise, it is a noun.\n",
    "* `nltk.pos_tag` should be called on each individual token, instead of on the entire tokenized text. For example, if the input string is `\"learning is fun\"`, you should call `nltk.pos_tag([\"learning\"])` to get the part-of-speech of `'learning'`, and input that to the lemmatizer. You may notice that in this case `\"learning\"` is classified as a verb (while it is a noun in the original sentence). However, this is not a problem, since our end goal is to reduce each token to its base form, not to correctly classify its part-of-speech.\n",
    "* If you use the regex character set `\\w`, note that it matches alphanumeric characters **and** the underscore character `_`."
   ]
  },
  {
   "cell_type": "code",
   "execution_count": 7,
   "metadata": {},
   "outputs": [],
   "source": [
    "def clean_text(text):\n",
    "    \"\"\"\n",
    "    Clean the input string by converting it to lowercase, removing 's and apostrophe.\n",
    "    \n",
    "    args:\n",
    "        text (str) : the input text\n",
    "        \n",
    "    return:\n",
    "        str : the cleaned text\n",
    "    \"\"\"\n",
    "    apostrophe_s_regex = re.compile(r\"'s\\s+|'s$\")\n",
    "    text = text.lower()\n",
    "    text = apostrophe_s_regex.sub(\" \", text)\n",
    "    text = text.replace(\"'\", \"\")\n",
    "    text = text.strip()\n",
    "    return text\n",
    "\n",
    "def tokenize(cleaned_text):\n",
    "    \"\"\"\n",
    "    Tokenize the input string.\n",
    "    \n",
    "    args:\n",
    "        cleaned_text (str): the input text, output from clean_text\n",
    "        \n",
    "    return:\n",
    "        List[str] : a list of tokens from the input text\n",
    "    \"\"\"\n",
    "    tokens = nltk.word_tokenize(cleaned_text)\n",
    "    res = []\n",
    "    for token in tokens:\n",
    "        res.extend(re.split(r\"[^a-zA-Z0-9]\", token))\n",
    "    res = [token for token in res if token != \"\"]\n",
    "    return res\n",
    "    \n",
    "\n",
    "def lemmatize(tokens, stopwords = {}):\n",
    "    \"\"\"\n",
    "    Lemmatize each token in an input list of tokens\n",
    "    \n",
    "    args:\n",
    "        tokens (List[str]) : a list of token, output from tokenize\n",
    "    \n",
    "    kwargs:\n",
    "        stopwords (Set[str]) : the set of stopwords to exclude\n",
    "    \n",
    "    return:\n",
    "        List[str] : a list of lemmatized and filtered tokens\n",
    "    \"\"\"\n",
    "    def get_pos_tag(token):\n",
    "        pos_tag = nltk.pos_tag([token])\n",
    "        pos_tag = pos_tag[0][1][0].lower()\n",
    "        if pos_tag not in [\"j\", \"v\", \"r\"]:\n",
    "            return \"n\"\n",
    "        if pos_tag == 'j':\n",
    "            return \"a\"\n",
    "        return pos_tag\n",
    "    lemmatizer = WordNetLemmatizer()\n",
    "    res = [lemmatizer.lemmatize(token, pos=get_pos_tag(token)) for token in tokens]\n",
    "    res = [token for token in res if token not in stopwords if len(token) >= 2]\n",
    "    return res\n",
    "    \n",
    "\n",
    "def preprocess_text(text, stopwords = {}):\n",
    "    # do not modify this function\n",
    "    cleaned_text = clean_text(text)\n",
    "    tokens = tokenize(cleaned_text)\n",
    "    return lemmatize(tokens, stopwords)"
   ]
  },
  {
   "cell_type": "code",
   "execution_count": 8,
   "metadata": {
    "tags": [
     "excluded_from_script"
    ]
   },
   "outputs": [
    {
     "name": "stdout",
     "output_type": "stream",
     "text": [
      "All tests passed!\n"
     ]
    }
   ],
   "source": [
    "def test_preprocess_text():\n",
    "    # cleaning\n",
    "    assert clean_text(\"I like Data Science\") == \"i like data science\"\n",
    "    assert clean_text(\"She's\") == \"she\"\n",
    "    assert clean_text(\"you've\")== \"youve\"\n",
    "    assert clean_text(\"car, cars, car's cars'\")== \"car, cars, car cars\"\n",
    "    assert clean_text(\"'shed'\") == \"shed\"\n",
    "    assert clean_text(\"'good news'\") == \"good news\"\n",
    "    assert clean_text(\"CMU's campus\")== \"cmu campus\"\n",
    "    assert preprocess_text(\"abc 'system\") == ['abc', 'system']\n",
    "    assert preprocess_text(\"O'Shea Jackson Jr. is an American actor and musician\") == ['oshea', 'jackson', 'jr', 'be', 'an', 'american', 'actor', 'and', 'musician']\n",
    "    \n",
    "    # tokenization\n",
    "    assert tokenize(\"ab..ab. .ab . ab.\") == ['ab', 'ab', 'ab', 'ab'], tokenize(\"ab..ab. .ab . ab.\")\n",
    "    assert tokenize(\"word-of-mouth hello,world\")== ['word', 'of', 'mouth', 'hello', 'world']\n",
    "    assert tokenize(\"gotta\")== ['got', 'ta']\n",
    "    assert tokenize(\"hello_world\") == [\"hello\", \"world\"]\n",
    "    assert preprocess_text(\"hope this👏will work\") == ['hope', 'this', 'will', 'work']\n",
    "    \n",
    "    # lemmatization\n",
    "    assert lemmatize([\"cats\"]) == ['cat']\n",
    "    assert lemmatize([\"did\"]) == ['do']\n",
    "    assert lemmatize([\"learning\", \"is\", \"fun\"], english_stopwords) == [\"learn\", \"fun\"]\n",
    "    \n",
    "    # miscellaneous\n",
    "    assert preprocess_text(\"the weather is really nice\", english_stopwords) == ['weather', 'really', 'nice']\n",
    "    assert preprocess_text(\n",
    "        \"To apply SVM learning in partial discharge classification, data input is very important!?\",\n",
    "        english_stopwords\n",
    "    ) == 'apply svm learn partial discharge classification data input important'.split()\n",
    "    assert preprocess_text(\"after all he's done\", english_stopwords) == []\n",
    "    assert preprocess_text(\"they didn’t have much chance of guessing what it was without further clues.\", english_stopwords) == ['much', 'chance', 'guess', 'without', 'far', 'clue']\n",
    "    assert preprocess_text(\"DUQUE'S\", english_stopwords) == [\"duque\"]\n",
    "    assert preprocess_text(\"the 'rona\", english_stopwords) == ['rona']\n",
    "    assert preprocess_text('MOTORCYCLES DONT FLY', english_stopwords)==['motorcycle', 'dont', 'fly']\n",
    "    assert preprocess_text('“ Georg e\\”', english_stopwords) == ['georg']\n",
    "    text = \"Harry leapt into the air; he’d trodden on something big and squashy on the doormat — something alive\"\n",
    "    assert preprocess_text(text, english_stopwords) == ['harry', 'leapt', 'air', 'trodden', 'something', 'big', 'squashy', 'doormat', 'something', 'alive']\n",
    "    assert preprocess_text(\"Donâ€™t want to add to TRUMPâ€™s #COVID19 numbers. #CoronaVirus ðŸ¦  donâ€™t care.\", english_stopwords) == ['want', 'add', 'trump', 'covid19', 'number', 'coronavirus', 'care']\n",
    "    \n",
    "    # test on long text string\n",
    "    with open(\"local_test_refs/henrys_letter.txt\", encoding = \"utf-8\") as infile, open(\"local_test_refs/processed_henrys_letter.txt\", encoding = \"utf-8\") as outfile:\n",
    "        processed_str = preprocess_text(infile.read())\n",
    "        reference_str = outfile.read().splitlines()\n",
    "        assert processed_str == reference_str\n",
    "    print(\"All tests passed!\")\n",
    "\n",
    "test_preprocess_text()"
   ]
  },
  {
   "cell_type": "markdown",
   "metadata": {},
   "source": [
    "You may notice that the lemmatization functionality isn't perfect; for example, it would map `\"as\"` to `\"a\"` because `\"as\"` is being treated as a noun instead of a proposition (with tag `\"IN\"`). In general, identifying the correct part-of-speech tag is very context-dependent (for example, `\"back\"` can be either an adjvective, adverb, verb or noun). In the context of this project, we will not dive deep into these linguistic nuances, and settle with the lemmatization rules above.\n",
    "\n",
    "The above processing function already covers a fair number of text cleaning tasks. We can now begin to collect data from online sources."
   ]
  },
  {
   "cell_type": "markdown",
   "metadata": {},
   "source": [
    "## Part B: Tweet Mining"
   ]
  },
  {
   "cell_type": "markdown",
   "metadata": {},
   "source": [
    "Twitter is one of the most popular social media platforms; according to [Omnicore](https://www.omnicoreagency.com/twitter-statistics/#:~:text=There%20are%2048.35%20million%20monthly,monetizable%20daily%20active%20Twitter%20users.), it has 48.35 million active users, 42% of whom use Twitter on a daily basis. Furthermore, tweets are public by default, making the site a particularly rich data source on any given trending topic.\n",
    "\n",
    "In this section, you will extract tweets related to the topic of coronavirus. Due to the dynamic nature of Twitter, any user can edit or remove their old tweets, making it difficult to obtain deterministic results (and to autograde your code). Therefore, we will instead use a fixed Tweet [dataset from Kaggle](https://www.kaggle.com/smid80/coronavirus-covid19-tweets) and provide you with a custom API to query tweets from this dataset. For your own data science projects in the future, however, you are encouraged to explore the [official Twitter API](https://developer.twitter.com/en/docs)."
   ]
  },
  {
   "cell_type": "markdown",
   "metadata": {},
   "source": [
    "### Question 2: Retrieve starting tweets\n",
    "Implement the function `get_tweets` that sends a GET request to https://gettweets.azurewebsites.net/11637/tweets and returns the status code as well as the response JSON. The response JSON is a list of dictionaries, each corresponding to one tweet and having the following format:\n",
    "\n",
    "```python\n",
    "{\n",
    "    'text': 'hello world', # str, the tweet content\n",
    "    'lang': 'en', # str, the tweet language\n",
    "    'id': 123, # int, the tweet id\n",
    "    'time': '2019-12-04' # # str, yyyy-mm-dd\n",
    "}\n",
    "```\n",
    "\n",
    "**Notes**:\n",
    "* The API endpoint url https://gettweets.azurewebsites.net/11637/tweets is provided in the global variable `TWEET_API`.\n",
    "* You should call `.text` on the response object to retrieve its content, and then convert the content to JSON before returning."
   ]
  },
  {
   "cell_type": "code",
   "execution_count": 9,
   "metadata": {},
   "outputs": [],
   "source": [
    "TWEET_API = \"https://gettweets.azurewebsites.net/11637/tweets\"\n",
    "\n",
    "def get_tweets(url = TWEET_API):\n",
    "    \"\"\"\n",
    "    Retrieve tweets by sending a GET request to the provided API endpoint.\n",
    "    \n",
    "    params:\n",
    "        url (str) : the url to send request to\n",
    "    \n",
    "    return:\n",
    "        Tuple(status_code, response):\n",
    "            status_code (int) : the response status code\n",
    "            response (str) : the response text\n",
    "    \"\"\"\n",
    "    response = requests.get(url)\n",
    "    return response.status_code, response.text"
   ]
  },
  {
   "cell_type": "code",
   "execution_count": 10,
   "metadata": {
    "tags": [
     "excluded_from_script"
    ]
   },
   "outputs": [
    {
     "name": "stdout",
     "output_type": "stream",
     "text": [
      "All tests passed!\n"
     ]
    }
   ],
   "source": [
    "def test_get_tweets():\n",
    "    response_code, tweet_text = get_tweets()\n",
    "    tweet_jsons = json.loads(tweet_text)\n",
    "    assert response_code == 200\n",
    "    assert len(tweet_jsons) == 100\n",
    "    first10_tweet_ids = [tweet_json[\"id\"] for tweet_json in tweet_jsons[:10]]\n",
    "    assert first10_tweet_ids == [2819, 3075, 3331, 3587, 3843, 4099, 4355, 4611, 4867, 5123]\n",
    "    assert tweet_jsons[1][\"text\"] == 'Los Angeles County has identified 6 new cases of the coronavirus &amp; declared a local state of emergency.\\n#CoronavirusOutbreak #Coronavirusflorida #LosAngeles'\n",
    "    print(\"All tests passed!\")\n",
    "\n",
    "test_get_tweets()"
   ]
  },
  {
   "cell_type": "markdown",
   "metadata": {},
   "source": [
    "Great, you now have 100 tweets at your disposal! Typically though, we would like to have more flexibility in our search, for example by specifying particular parameters that indicate our search objective. In this case, our API provides four parameters as follows:\n",
    "\n",
    "* `lang` - specify the tweet language, which is an [ISO 639-1 code](https://en.wikipedia.org/wiki/List_of_ISO_639-1_codes), e.g., `en` for English.\n",
    "* `start` - the start date, formatted as yyyy-mm-dd; only tweets created on or after this date are returned.\n",
    "* `end` - the end date, formatted as yyyy-mm-dd; only tweets created on or before this date are returned.\n",
    "* `page` - the tweet page number."
   ]
  },
  {
   "cell_type": "markdown",
   "metadata": {},
   "source": [
    "Note the use of the `page` parameter here. Because returning a large JSON would put burden on the server, we have restricted all response JSONs to only include 100 tweets. To get more tweets that also satisfy your search query, you can specify the `page` parameter based on the following formula: if `page = i` (indexed from 1) then the tweets from index `100*(i-1) + 1` to index `100*i` (inclusive) will be returned.\n",
    "\n",
    "As an example, if your configuration of `(lang, start, end)` yields 306 tweets, then:\n",
    "\n",
    "* `page = 1` or no `page` specified will return the tweets 1-100.\n",
    "* `page = 2` will return the tweets 101-200.\n",
    "* `page = 3` will return the tweets 201-300.\n",
    "* `page = 4` will return the tweets 301-306.\n",
    "* `page = 5` or larger will return a JSON with empty content `\"[]\"`."
   ]
  },
  {
   "cell_type": "markdown",
   "metadata": {},
   "source": [
    "### Question 3: Search for tweets with parameters\n",
    "Implement the function `get_tweet_texts_with_params` that sends a GET request to the provided API endpoint with (optional) input parameters `lang`, `start`, `end` and `page`. This function should collect all tweets that satisfy the search query if the number of such tweets is smaller than a specified `n_tweets`, or the first `n_tweets` tweets otherwise."
   ]
  },
  {
   "cell_type": "code",
   "execution_count": 11,
   "metadata": {},
   "outputs": [],
   "source": [
    "def get_tweet_texts_with_params(url = TWEET_API, lang = \"all\", start = \"na\", end = \"na\", n_tweets = 10000):\n",
    "    \"\"\"\n",
    "    Search for tweets with parameters and extract their text content\n",
    "    \n",
    "    kwargs:\n",
    "        url (str) : the url to send request to\n",
    "        lang (str) : the tweet language in ISO 639-1 format\n",
    "        start (str) : the start date, yyyy-mm-dd\n",
    "        end (str) : the end date, yyyy-mm-dd\n",
    "        n_tweets (int) : the number of tweets to collect\n",
    "    \n",
    "    return:\n",
    "        List[str] : a list with the contents of the first n_tweets tweets returned from the search\n",
    "    \"\"\"\n",
    "    page = 1\n",
    "    request_params = {\n",
    "        \"lang\": lang,\n",
    "        \"start\": start,\n",
    "        \"end\": end,\n",
    "        \"page\": page\n",
    "    }\n",
    "    res = []\n",
    "    while True:\n",
    "        response = requests.get(url = TWEET_API, params = request_params)\n",
    "        if response.content == []:\n",
    "            break\n",
    "        res_content = json.loads(response.text)\n",
    "        res_content = [resp[\"text\"] for resp in res_content]\n",
    "        res.extend(res_content)\n",
    "        n_tweets -= len(res_content)\n",
    "        if n_tweets == 0:\n",
    "            break\n",
    "        page += 1\n",
    "        request_params[\"page\"] = page\n",
    "    return res"
   ]
  },
  {
   "cell_type": "code",
   "execution_count": 12,
   "metadata": {
    "tags": [
     "excluded_from_script"
    ]
   },
   "outputs": [
    {
     "name": "stdout",
     "output_type": "stream",
     "text": [
      "All tests passed!\n"
     ]
    }
   ],
   "source": [
    "def test_get_tweet_texts_with_params():\n",
    "    tweet_texts = get_tweet_texts_with_params(lang = \"en\", start = \"2020-03-09\", end = \"2020-03-09\")\n",
    "    assert len(tweet_texts) == 10000\n",
    "    example_tweets = [\n",
    "        '#coronavirus #COVID19 2 new cases reported in Kentucky (Harrison Co and Fayette Co), bring the states total to 6.',\n",
    "        \"#BREAKING\\n#Italy is extending its #coronavirus #quarantine measures, which include a ban on public gatherings, to the ENTIRE COUNTRY.\\nItaly's coronavirus death toll jumped on Monday by 97 to 463. \\nIt is the worst-hit country after #China.\\nhttps://t.co/Q6MNtyXttA\\n#COVID19\",\n",
    "        '#Investorsâ€™ fortunes plunge as sell pressure hit banking stocks amid COVID-19 fear https://t.co/stihfvM7xZ via @MarketForcesA\\n\\n@Afrinvest @nsenigeria #equitymarket #fmcg #banks #insurance #oilandgas #COVID19',\n",
    "        'FROM A DOCTOR IN ITALY...\\n#coronavirus\\n#Coronavirusflorida\\n#CoronaVirusUpdates\\n#CoronavirusUSA\\n#COVID19 \\n#covid19Canada\\n#COVID19Toronto\\n#CoronaVirusCanada \\n#coronavirusToronto https://t.co/ZelZHWTuR1',\n",
    "        'Ina joint statement, Major League Baseball, Major League Soccer, the National Basketball Association, and the National Hockey League announced they are limiting locker room access due to concerns about the Coronavirus pandemic. #MLB #MLS #NBA #NHL #COVID19 #coronavirus https://t.co/Z6CUqxDrAO',\n",
    "        'Coronaviruses (CoV) are a large family of viruses that cause illness ranging from the common cold to more severe diseases such asMERS-CoVand SARS-CoV. A novel coronavirus (nCoV) is a new strain that has not been previously identified in humans.  #coronavirus #CoronavirusOutbreak',\n",
    "        'Simon Coveny and the entire Irish government attitude towards #covid19 just got destroyed on  #cblive',\n",
    "        'The reason for the toilet paper shortage is because when one person sneezes, 100 people shit themselves ðŸ¤§ #coronavirus #COVID19 #tolietpaper',\n",
    "        'Latest #COVID19 numbers in Missouri - https://t.co/27vLQ3ZmqY',\n",
    "        'Tips on battling #CoronaVirusUpdate #COVID2019 #CoronavirusOutbreak \\nhttps://t.co/UaY8boPzHg'\n",
    "    ]\n",
    "    \n",
    "    assert tweet_texts[800:810] == example_tweets\n",
    "    emoji_tweet = \"Be carefull guy's and wish you all happy holi to you &amp; your family. :) \\n#HappyHoli #CoronavirusOutbreak #à¤¹à¥‹à¤²à¥€ #à¤¹à¥‹à¤²à¤¿à¤•à¤¾_à¤¦à¤¹à¤¨ #BankLooteriBJP #Coronavid19 #marketcrash  #reliance #colours #KurkureWithSidNaaz #MondayMorning #MereAngneMein ##RangBarseWithSid #à¤¬à¥�à¤°à¤¾_à¤¨_à¤®à¤¾à¤¨à¥‹_à¤¹à¥‹à¤²à¥€_à¤¹à¥ˆ https://t.co/Rg2SpMNKZD\"\n",
    "    assert emoji_tweet in tweet_texts\n",
    "    print(\"All tests passed!\")\n",
    "    \n",
    "test_get_tweet_texts_with_params()"
   ]
  },
  {
   "cell_type": "markdown",
   "metadata": {},
   "source": [
    "### Question 4: Process tweet data\n",
    "Looking at some of the tweets above, we see that:\n",
    "1. Some tweets contain Twitter-shortened URLs, for example `https://t.co/DzhsXPxUDa`. These are always in the form of `http://t.co/` or `https://t.co/` followed by 10 alphanumeric characters. These links should be removed.\n",
    "1. Some tweets contain emoticons such as `:)` or `<3`. The characters in these emoticons should be removed.\n",
    "\n",
    "Implement the function `process_tweet` that takes as input a tweet text, performs the above two cleaning steps, and then calls `preprocess_text` on the cleaned tweet.\n",
    "\n",
    "**Notes**:\n",
    "* You should remove URL before removing emoticons.\n",
    "* We have provided a list of emoticons for you in the variable `emoticons`. You can assume that only elements in this set are considered emoticons and need to be removed. \n",
    "* Note that there may be no space between a shortened URL and the next word. However, you can assume that there are always 10 alphanumeric characters after http://t.co/ or https://t.co/.\n",
    "* Remember to specify the stopwords parameter `english_stopwords` when calling `preprocess_text`."
   ]
  },
  {
   "cell_type": "code",
   "execution_count": 13,
   "metadata": {},
   "outputs": [],
   "source": [
    "emoticons = [\n",
    "    ':-)', ':)', ';)', ':o)', ':]', ':3', ':c)', ':>', '=]', '8)', '=)', ':}',\n",
    "    ':^)', ':-D', ':D', '8-D', '8D', 'x-D', 'xD', 'X-D', 'XD', '=-D', '=D',\n",
    "    '=-3', '=3', ':-))', \":'-)\", \":')\", ':*', ':^*', '>:P', ':-P', ':P', 'X-P',\n",
    "    'x-p', 'xp', 'XP', ':-p', ':p', '=p', ':-b', ':b', '>:)', '>;)', '>:-)', '<3',\n",
    "    ':L', ':-/', '>:/', ':S', '>:[', ':@', ':-(', ':[', ':-||', '=L', ':<',\n",
    "    ':-[', ':-<', '=\\\\', 'b=/', '>:(', ':(', '>.<', \":'-(\", \":'(\", ':\\\\', ':-c',\n",
    "    ':c', ':{', '>:\\\\', ';('\n",
    "]\n",
    "\n",
    "\n",
    "def process_tweet(tweet_text):\n",
    "    \"\"\"\n",
    "    Process and tokenize tweets, in addition to removing URLs and emoticons\n",
    "    \n",
    "    args:\n",
    "        tweet_text (str) : a list of tweet contents\n",
    "    \n",
    "    return:\n",
    "        List[str] :  a list of processed tokens from the input tweet\n",
    "    \"\"\"\n",
    "    url_pattern_regex = re.compile(r\"https?:\\/\\/t\\.co\\/[0-9a-zA-Z]{10}\")\n",
    "    text = re.sub(url_pattern_regex, \" \", tweet_text)\n",
    "    for emoticon in emoticons:\n",
    "        text = text.replace(emoticon, \" \")\n",
    "    tokens = preprocess_text(text, english_stopwords)\n",
    "    return tokens\n",
    "\n",
    "# do not modify this function\n",
    "def process_tweet_data(tweet_texts):\n",
    "    return [process_tweet(tweet_text) for tweet_text in tweet_texts]"
   ]
  },
  {
   "cell_type": "code",
   "execution_count": 14,
   "metadata": {
    "tags": [
     "excluded_from_script"
    ]
   },
   "outputs": [
    {
     "name": "stdout",
     "output_type": "stream",
     "text": [
      "All tests passed!\n"
     ]
    }
   ],
   "source": [
    "def test_process_tweet():\n",
    "    assert process_tweet(\"It's a great day :D\") == ['great', 'day']\n",
    "    assert process_tweet(\"<3hello\") == [\"hello\"]\n",
    "    assert process_tweet(\"goodX-Dday\") == [\"good\", \"day\"]\n",
    "    assert process_tweet(\"http://t.co/WJs5bmRthU,http://t.co/WJs5bmRthU,\") == []\n",
    "    assert process_tweet(\"hellohttp://t.co/WJs5bmRthUworld\") == [\"hello\", \"world\"]\n",
    "    assert process_tweet(\"http://taco/WJs5bmRthU\") == ['http', 'taco', 'wjs5bmrthu']\n",
    "    print(\"All tests passed!\")\n",
    "    \n",
    "test_process_tweet()"
   ]
  },
  {
   "cell_type": "markdown",
   "metadata": {},
   "source": [
    "## Part C: Web Scraping"
   ]
  },
  {
   "cell_type": "markdown",
   "metadata": {},
   "source": [
    "We now move to the second method of data extraction: using Selenium and Beautifulsoup to parse HTML codes. More specifically, we will collect news articles related to the same topic of Coronavirus from two major media outlets -- [Nature](https://www.nature.com/) and [The New York Times](https://www.nytimes.com/). Through this exercise, you will learn how to navigate HTML structures from different webpages in order to get the desired information.\n",
    "\n",
    "To begin, we have provided you a helper function `retrieve_url` takes as input a webpage string URL and creates a BeautifulSoup object from the corresponding page content."
   ]
  },
  {
   "cell_type": "code",
   "execution_count": 15,
   "metadata": {},
   "outputs": [],
   "source": [
    "def retrieve_url(url):\n",
    "    page = requests.get(url)\n",
    "    soup = BeautifulSoup(page.content, 'html.parser')\n",
    "    return soup"
   ]
  },
  {
   "cell_type": "markdown",
   "metadata": {},
   "source": [
    "### Question 5: Parsing a single article from Nature\n",
    "Implement the function `parse_page_nature` that takes as input a URL string pointing to a Nature news article, and returns a JSON dictionary with the following format:\n",
    "\n",
    "```python\n",
    "{\n",
    "    'Title': 'When will the coronavirus outbreak peak?' #str\n",
    "    'Author': ['David Cyranoski'] # list, a list of author names in the same order as they appear on the page\n",
    "    'Published Date': '2020-04-21' # str, yyyy-mm-dd\n",
    "    'Summary': '.....' #str, the summary div between the title and author fields, or empty string if no summary is available\n",
    "    'Content': '.....' #list, the whole article content, where every element is a paragraph (i.e., comes from a <p> tag)\n",
    "}\n",
    "```\n",
    "\n",
    "The values of `Summary` and `Content` should be raw texts that do not contain any HTML tag. For example, if the input HTML code is `\"<p><b>Hello</b><a href=\"https://google.com\">World</a><p>\"` then the output `Content` should be `\"Hello World\"`.\n",
    "\n",
    "In the local test we have provided the full reference JSON files for some article pages. If your dictionary does not match the reference JSON, you should print out both and do a careful comparison to see where the difference is.\n",
    "\n",
    "**Notes**:\n",
    "* Occasionally there are some \"Related\" blocks embedded in the article text (example [here](http://clouddatascience.blob.core.windows.net/m20-foundation-data-science/p3-domain-data-preparation/nature_related.png)). These are characterized by the attribute `data-label=\"Related\"` and should **not** be included in the parsing result.\n",
    "* The `Published Date` field should be the original article date, not the updated date. For example, the `Published Date` for [this article](https://www.nature.com/articles/d41586-020-00166-6) is 2020-01-22.\n",
    "* Remember to call `strip()` on all values in the returned dictionary so that there is no leading or trailing space anywhere. If a content paragraph becomes empty after `strip()`, it should not be included. You do not need to call any other text processing task in section A.\n",
    "* Do not parse information form the `meta` tags as they are not robust. Every required information can be found within `body`.\n",
    "* If an article has no authors (e.g., https://www.nature.com/articles/d41586-020-00589-1), the Author field should be an empty list.\n",
    "* For the Content list, only text contents that come from the `p` tags in the article body should be included. You can start by identifying a `div` that corresponds to the entire article body (looking at the CSS class names may be helpful). Note that if an image caption is the child of a `p` tag, its content should be included as well."
   ]
  },
  {
   "cell_type": "code",
   "execution_count": 16,
   "metadata": {},
   "outputs": [],
   "source": [
    "def parse_page_nature(url):\n",
    "    \"\"\"\n",
    "    Parse a single Nature article at the given URL\n",
    "    \n",
    "    args:\n",
    "        url (str) : the article URL\n",
    "    \n",
    "    return:\n",
    "        Dict[str, str] : the parsed information stored in JSON format, which includes:\n",
    "            Title, Author, Published Date, Summary and Content\n",
    "    \"\"\"\n",
    "    soup = BeautifulSoup(requests.get(url).text, \"html.parser\")\n",
    "    res = {}\n",
    "    body = soup.find(\"body\")\n",
    "    article_header_div =  body.find(\"div\", \"c-article-header\")\n",
    "    res[\"Title\"] = article_header_div.find(\"div\", class_=\"c-article-header__restrict\").find(\"h1\").get_text().strip()\n",
    "    authors_ul = article_header_div.find(\"div\", class_=\"c-article-author-list-container\")\n",
    "    if authors_ul is not None:\n",
    "        authors_li = authors_ul.find(\"ul\", \"c-article-author-list\").find_all(\"li\")\n",
    "        res[\"Author\"] = [author_li.find(\"a\").get_text().strip() for author_li in authors_li]\n",
    "    else:\n",
    "        res[\"Author\"] = []\n",
    "    res[\"Summary\"] = article_header_div.find(\"div\", class_=\"c-article-teaser-text\").get_text().strip()\n",
    "    pub_date = article_header_div.find(\"ul\", class_=\"c-article-identifiers\").find_all(\"li\")[1].get_text().strip()\n",
    "    res[\"Published Date\"] = datetime.strptime(pub_date, \"%d %B %Y\").strftime(\"%Y-%m-%d\")\n",
    "    body_content = body.find(\"div\", class_=\"c-article-body\").find_all(\"p\")\n",
    "    filtered_content = []\n",
    "    for content in body_content:\n",
    "        embedded_block = content.find(\"div\")\n",
    "        if embedded_block is None:\n",
    "            if not content.has_attr(\"class\") or \"recommended__title\" not in content[\"class\"]:  \n",
    "                filtered_content.append(content)\n",
    "        else:\n",
    "            if not embedded_block.has_attr(\"data-label\") or embedded_block[\"data-label\"] != \"Related\":\n",
    "                filtered_content.append(content)\n",
    "    filtered_content = [content.get_text().strip() for content in filtered_content]\n",
    "    filtered_content = [content for content in filtered_content if content != \"\"]\n",
    "    res[\"Content\"] = filtered_content\n",
    "    return res"
   ]
  },
  {
   "cell_type": "code",
   "execution_count": 17,
   "metadata": {
    "tags": [
     "excluded_from_script"
    ]
   },
   "outputs": [
    {
     "name": "stdout",
     "output_type": "stream",
     "text": [
      "All tests passed!\n"
     ]
    }
   ],
   "source": [
    "def test_parse_page_nature():\n",
    "    nature1 = parse_page_nature(\"https://www.nature.com/articles/d41586-020-00190-6\")\n",
    "    nature1_reference = json.load(open(\"local_test_refs/nature1.txt\"))\n",
    "    assert nature1 == nature1_reference\n",
    "    \n",
    "    nature2 = parse_page_nature(\"https://www.nature.com/articles/d41586-020-00166-6\")\n",
    "    nature2_reference = json.load(open(\"local_test_refs/nature2.txt\"))\n",
    "    assert nature2 == nature2_reference\n",
    "    \n",
    "    nature3 = parse_page_nature(\"https://www.nature.com/articles/d41586-020-00798-8\")\n",
    "    nature3_reference = json.load(open(\"local_test_refs/nature3.txt\"))\n",
    "    assert nature3 == nature3_reference\n",
    "    \n",
    "    nature4 = parse_page_nature(\"https://www.nature.com/articles/d41586-020-00589-1\")\n",
    "    assert nature4[\"Author\"] == []\n",
    "    assert nature4[\"Published Date\"] == '2020-03-04'\n",
    "    assert len(nature4[\"Content\"]) == 26\n",
    "    \n",
    "    nature5 = parse_page_nature(\"https://www.nature.com/articles/d41586-020-00786-y\")\n",
    "    assert nature5[\"Author\"] == ['Giuliana Viglione']\n",
    "    assert nature5[\"Published Date\"] == '2020-03-16'\n",
    "    assert len(nature5[\"Content\"]) == 14\n",
    "    print(\"All tests passed!\")\n",
    "\n",
    "test_parse_page_nature()"
   ]
  },
  {
   "cell_type": "markdown",
   "metadata": {},
   "source": [
    "### Question 6: Parsing several Nature articles from a search page\n",
    "Now that you have successfully parsed individual article pages, the next step is to search for all the relevant articles and parse each of them. More specifically, we want to search for articles that:\n",
    "1. contain the term \"coronavirus\" (case-insensitive) *in their titles*\n",
    "1. do not contain any of the terms \"Daily briefing\", \"Podcast\" or \"Backchat\" (case-insensitive) in their titles\n",
    "1. were published in a given period of time (e.g., February 01, 2020 to March 01, 2020 inclusive)\n",
    "1. have \"News\" as the Article type and belong to the journal \"Nature\" -- these criteria can be specified in the search result page.\n",
    "\n",
    "Explore the [Nature search page](https://www.nature.com/search) and [Advanced search page](https://www.nature.com/search/advanced) to see how you may obtain the search results that satisfy the above conditions. Then implement the function `extract_nature_articles` that returns a list of JSON-like dictionaries, each resulting from calling `parse_page_nature` on one article in the search results.\n",
    "\n",
    "**Notes**:\n",
    "* Pay attention to how the page URL is structured as you enter the search parameters.\n",
    "* The article dictionaries should be ordered based on their associated dates **on the search result page**, from earlier to later. If two articles have the same date, order them alphabetically based on their titles.\n",
    "* If you see a connection reset error message, your code is sending requests too fast. You can include a `time.sleep` for a short duration between requests to avoid this issue.\n",
    "* If Nature's search functionalities do not support all of the search criteria, you can implement your own filter."
   ]
  },
  {
   "cell_type": "code",
   "execution_count": 18,
   "metadata": {},
   "outputs": [],
   "source": [
    "def extract_nature_articles(start_date, end_date, base_url = \"https://www.nature.com\"):\n",
    "    \"\"\"\n",
    "    Search for and parse all coronavirus-related News article from the Nature journal that were\n",
    "    published in a given period\n",
    "    \n",
    "    args:\n",
    "        start_date (str): the lower bound of the date range to filter articles,\n",
    "            has the format yyyy-mm-dd\n",
    "        end_date (str): the upper bound (inclusive) of the date range to filter articles,\n",
    "            has the format yyyy-mm-dd\n",
    "    \n",
    "    kwargs:\n",
    "        base_url (str): the home page url of Nature\n",
    "    \n",
    "    return:\n",
    "        List[Dict[str, str]] : a list of parsed JSON for each articles returned by\n",
    "            the search query\n",
    "    \"\"\"\n",
    "    invalid_titles = [\"daily briefing\", \"podcast\", \"backchat\"]\n",
    "    url = \"https://www.nature.com/search?q=coronavirus&journal=nature&article_type=news&date_range={}-{}&title=coronavirus&order=date_asc&page={}\"\n",
    "    article_url = \"https://www.nature.com{}\"\n",
    "    syear, eyear = start_date.split(\"-\")[0], end_date.split(\"-\")[0]\n",
    "    page = 1\n",
    "    \n",
    "    start_date = datetime.strptime(start_date, \"%Y-%m-%d\")\n",
    "    end_date = datetime.strptime(end_date, \"%Y-%m-%d\")\n",
    " \n",
    "    def is_valid_title(title):\n",
    "        title = title.lower()\n",
    "        for term in invalid_titles:\n",
    "            if term in title:\n",
    "                return False\n",
    "        return True\n",
    "    \n",
    "    stop = False\n",
    "    res = []\n",
    "    while not stop:\n",
    "        url = url.format(syear, eyear, page)\n",
    "        time.sleep(0.5)\n",
    "        response = requests.get(url).text\n",
    "        soup = BeautifulSoup(response, \"html.parser\")\n",
    "        if soup.find(\"div\", {\"data-test\": \"empty-search-result-message\"}) is not None:\n",
    "            break\n",
    "        articles = soup.find(\"ul\", class_=\"app-article-list-row\").find_all(\"li\", class_=\"app-article-list-row__item\")\n",
    "        for article in articles:\n",
    "            time_s = article.find(\"div\", class_=\"c-card__section\").find(\"time\", class_=\"c-meta__item\").get_text()\n",
    "            pub_date = datetime.strptime(time_s, \"%d %b %Y\")\n",
    "            if pub_date <= start_date:\n",
    "                continue\n",
    "            if pub_date > end_date:\n",
    "                stop = True\n",
    "                break\n",
    "            title_a = article.find(\"a\", class_=\"c-card__link\")\n",
    "            title = title_a.get_text()\n",
    "            if is_valid_title(title):\n",
    "                href = title_a[\"href\"]\n",
    "                parsed_content = parse_page_nature(article_url.format(href))\n",
    "                res.append(parsed_content)\n",
    "        if not stop:\n",
    "            page += 1\n",
    "        \n",
    "        res = sorted(res, key=lambda item: (datetime.strptime(item[\"Published Date\"], \"%Y-%m-%d\"), item[\"Title\"]))\n",
    "        return res"
   ]
  },
  {
   "cell_type": "code",
   "execution_count": 19,
   "metadata": {
    "tags": [
     "excluded_from_script"
    ]
   },
   "outputs": [
    {
     "name": "stdout",
     "output_type": "stream",
     "text": [
      "All tests passed!\n"
     ]
    }
   ],
   "source": [
    "def test_extract_nature_articles():\n",
    "    parsed_articles = extract_nature_articles(\"2020-02-01\", \"2020-03-01\")\n",
    "    expected_titles = [\n",
    "        'HIV vaccine failure, coronavirus papers and an unprecedented glimpse of the Sun',\n",
    "        'Did pangolins spread the China coronavirus to people?',\n",
    "        'How scientists are fighting the novel coronavirus: A three minute guide',\n",
    "        'CRISPR enhancement, coronavirus source and a controversial appointment',\n",
    "        'Scientists fear coronavirus spread in countries least able to contain it',\n",
    "        'More than 80 clinical trials launch to test coronavirus treatments',\n",
    "        'When will the coronavirus outbreak peak?',\n",
    "        'Coronavirus name, animal-research data and a Solar System snowman',\n",
    "        'Scientists question China’s decision not to report symptom-free coronavirus cases',\n",
    "        'China set to clamp down permanently on wildlife trade in wake of coronavirus',\n",
    "        '‘No one is allowed to go out’: your stories from the coronavirus outbreak',\n",
    "        'Time to use the p-word? Coronavirus enters dangerous new phase',\n",
    "        'Mystery deepens over animal source of coronavirus'\n",
    "    ]\n",
    "    expected_dates = [\n",
    "        '2020-02-05', '2020-02-07', '2020-02-07', '2020-02-12',\n",
    "        '2020-02-13', '2020-02-15', '2020-02-18', '2020-02-19',\n",
    "        '2020-02-20', '2020-02-21', '2020-02-21', '2020-02-25', '2020-02-26'\n",
    "    ]\n",
    "    \n",
    "    assert len(parsed_articles) == 13\n",
    "    assert [a[\"Title\"] for a in parsed_articles] == expected_titles\n",
    "    assert [a[\"Published Date\"] for a in parsed_articles] == expected_dates\n",
    "    print(\"All tests passed!\")\n",
    "\n",
    "test_extract_nature_articles()"
   ]
  },
  {
   "cell_type": "markdown",
   "metadata": {},
   "source": [
    "### Question 7: Parsing a single article from the New York Times\n",
    "\n",
    "Implement the function `parse_page_nyt` that takes as input an NYT article string URL and returns a JSON dictionary with the following format:\n",
    "\n",
    "```python\n",
    "{\n",
    "    'Title': 'F.D.A. Approves First Coronavirus Antibody Test in U.S.' #str\n",
    "    'Author': ['Katie Thomas', 'Natasha Singer'] # list, a list of author names in the same order as they appear on the page\n",
    "    'Published Date': '2020-04-21' # str, yyyy-mm-dd\n",
    "    'Summary': '.....' #str, the summary paragraph between the title and author fields, or empty string if no summary is available\n",
    "    'Content': '.....' #list, the whole article content, where every element is a paragraph (i.e., comes from a <p> tag)\n",
    "}\n",
    "```\n",
    "\n",
    "The values of `Summary` and `Content` should be raw text that do not contain any HTML tag. For example, if the input HTML code is `\"<p><b>Hello</b> <a href=\"https://google.com\">World</a><p>\"` then the output should be `\"Hello World\"`.\n",
    "\n",
    "In the local test we have provided the full reference JSON files for some article pages. If your dictionary does not match the reference JSON, you should print out both and do a careful comparison to see where the difference is.\n",
    "\n",
    "**Notes**:\n",
    "* Ignore the \"Frequently Asked Questions and Advice\" box (example [here](http://clouddatascience.blob.core.windows.net/m20-foundation-data-science/p3-domain-data-preparation/nyt_faq.png)).\n",
    "* The summary can be extracted from a `<p>` tag whose id is `article-summary`. If this tag is not present, simply use the empty string as the value.\n",
    "* For the `Content` field, you only need to find the `<p>` tags inside the `<div>` tags that have the class `StoryBodyCompanionColumn`.\n",
    "* You may find unicode characters, e.g., `\\u201d`, while parsing the page. It is fine to include them in the output. \n",
    "* Remember to call `strip()` on all values in the returned dictionary so that there is no leading or trailing space anywhere. If a content paragraph becomes empty after `strip()`, it should not be included. You do not need to call any other text processing task in section A."
   ]
  },
  {
   "cell_type": "code",
   "execution_count": 20,
   "metadata": {},
   "outputs": [],
   "source": [
    "def parse_page_nyt(url):\n",
    "    \"\"\"\n",
    "    Parse a New York Times article page to extract the title, authors, date, summary and content.\n",
    "    \n",
    "    args:\n",
    "        url (str) : the article page's URL\n",
    "    \n",
    "    return:\n",
    "        Dict[str, str] : a JSON-like dictionary whose keys are \"Title\", \"Author\", \"Published Date\", \"Summary\" and \"Content\"\n",
    "    \"\"\"\n",
    "    soup = BeautifulSoup(requests.get(url).text, \"html.parser\")\n",
    "    faq_box = soup.find(\"section\", {\"id\": \"styln-faq-coronavirus\"})\n",
    "    if faq_box is not None:\n",
    "        faq_box.decompose()\n",
    "    res = {}\n",
    "    res[\"Title\"] = soup.find(\"div\", {\"class\": \"css-1vkm6nb\"}).find(\"h1\").get_text().strip()\n",
    "    authors_p = soup.find(\"p\", {\"itemprop\": \"author\"})\n",
    "    authors_span = authors_p.find_all(\"span\", {\"itemprop\": \"name\"})\n",
    "    res[\"Author\"] = []\n",
    "    if authors_span is not None:\n",
    "        val = [author_span.get_text().strip() for author_span in authors_span]\n",
    "        res[\"Author\"].extend(val)\n",
    "    res[\"Published Date\"] = soup.find(\"ul\", class_=\"css-1u1psjv\").find_all(\"time\")[0].get_text().strip().replace(\"Published \", \"\")\n",
    "    res[\"Published Date\"] = datetime.strptime(res[\"Published Date\"], \"%B %d, %Y\").strftime(\"%Y-%m-%d\")\n",
    "    summary_p = soup.find(\"p\", {\"id\": \"article-summary\"})\n",
    "    if summary_p is not None:\n",
    "        res[\"Summary\"] = summary_p.get_text().strip()\n",
    "    else:\n",
    "        res[\"Summary\"] = \"\"\n",
    "    content_div = soup.find_all(\"div\", class_=\"StoryBodyCompanionColumn\")\n",
    "    content_p = []\n",
    "    for div in content_div:\n",
    "        content_p.extend(div.find_all(\"p\"))\n",
    "    res[\"Content\"] = [content.get_text().strip() for content in content_p]\n",
    "    res[\"Content\"] = [content for content in res[\"Content\"] if content != \"\"]\n",
    "    return res"
   ]
  },
  {
   "cell_type": "code",
   "execution_count": 21,
   "metadata": {
    "tags": [
     "excluded_from_script"
    ]
   },
   "outputs": [
    {
     "name": "stdout",
     "output_type": "stream",
     "text": [
      "All tests passed!\n"
     ]
    }
   ],
   "source": [
    "def test_parse_page_nyt():\n",
    "    nyt1 = parse_page_nyt(\"https://web.archive.org/web/20200603034948/https://www.nytimes.com/2020/04/21/health/fda-in-home-test-coronavirus.html\")\n",
    "    nyt1_reference = json.load(open(\"local_test_refs/nyt1.txt\"))\n",
    "    assert nyt1 == nyt1_reference\n",
    "    \n",
    "    nyt2 = parse_page_nyt(\"https://web.archive.org/web/20200602022004/https://www.nytimes.com/2020/04/18/health/kidney-dialysis-coronavirus.html\")\n",
    "    nyt2_reference = json.load(open(\"local_test_refs/nyt2.txt\"))\n",
    "    assert nyt2 == nyt2_reference\n",
    "    \n",
    "    nyt3 = parse_page_nyt(\"https://web.archive.org/web/20200520224040/https://www.nytimes.com/2020/03/23/health/medical-students-coronavirus.html\")\n",
    "    nyt3_reference = json.load(open(\"local_test_refs/nyt3.txt\"))\n",
    "    assert nyt3 == nyt3_reference\n",
    "    \n",
    "    nyt4 = parse_page_nyt(\"https://web.archive.org/web/20200626171621/https://www.nytimes.com/2020/03/23/health/medical-students-coronavirus.html\")\n",
    "    assert nyt4[\"Author\"] == ['Penina Krieger', 'Abby Goodnough']\n",
    "    assert nyt4[\"Published Date\"] == \"2020-03-23\"\n",
    "    assert len(nyt4[\"Content\"]) == 27\n",
    "    \n",
    "    nyt5 = parse_page_nyt(\"https://web.archive.org/web/20200809005447/https://www.nytimes.com/2020/03/20/health/coronavirus-data-logarithm-chart.html\")\n",
    "    assert nyt5[\"Author\"] == [\"Kenneth Chang\"]\n",
    "    assert nyt5[\"Published Date\"] == \"2020-03-20\"\n",
    "    assert len(nyt5[\"Content\"]) == 8\n",
    "\n",
    "    nyt6 = parse_page_nyt(\"https://web.archive.org/web/20200710083045/https://www.nytimes.com/2020/03/20/health/coronavirus-italy-men-risk.html\")\n",
    "    assert nyt6[\"Author\"] == ['Roni Caryn Rabin']\n",
    "    assert nyt6[\"Published Date\"] == \"2020-03-20\"\n",
    "    assert len(nyt6[\"Content\"]) == 17\n",
    "    \n",
    "    nyt7 = parse_page_nyt(\"https://web.archive.org/web/20200522153110/https://www.nytimes.com/2020/03/20/health/coronavirus-nurses-healthcare.html\")\n",
    "    assert nyt7[\"Author\"] == ['Emma Goldberg']\n",
    "    assert nyt7[\"Published Date\"] == \"2020-03-20\"\n",
    "    assert len(nyt7[\"Content\"]) == 20\n",
    "\n",
    "    print(\"All tests passed!\")\n",
    "\n",
    "test_parse_page_nyt()"
   ]
  },
  {
   "cell_type": "markdown",
   "metadata": {},
   "source": [
    "### Question 8: Parsing several NYT article titles from the search page (optional)\n",
    "\n",
    " **This is an optional, ungraded question. We have provided the solution code for you. Feel free to proceed to Question 9 and revisit this later if you are interested.** \n",
    " \n",
    "Just like with Nature, we can browse the [NYT search page](https://www.nytimes.com/search) and programmatically collect all the search results, which can then be parsed individually using `parse_page_nyt`.\n",
    "\n",
    "A caveat here is that the Nature search page partitions the search results into several webpages, each with a unique URL, while NYT includes all the search results in one webpage. Initially only the first 10 results are visible; we need to click on the \"SHOW MORE\" button to see the next 10 results, then click again for the next 10, and so on. Naturally, this task is best suited for Selenium.\n",
    "\n",
    "We provide the Selenium code to extract the search results here. This code will search for articles that:\n",
    "\n",
    "1. are presented by entering the term \"coronavirus\" in the search box.\n",
    "1. were published in a given period of time (e.g., February 01, 2020 to March 01, 2020 inclusive)\n",
    "1. have \"Article\" as the type and belong to the \"Health\" section  -- these criteria can be specified in the search result page.\n",
    "\n",
    "\n",
    "To run this code you will need to have downloaded either the Chromedriver or Geckodriver, depending on your preferred browser (see the [Data Collection and Extraction Primer](https://nbviewer.jupyter.org/url/clouddatascience.blob.core.windows.net/primers/data-collection-extraction-primer/data_collection_extraction_primer.ipynb) for detailed installation instructions). Then, edit the `USE_GECKODRIVER` variable, and fill in either the `PATH_TO_CHROMEDRIVER` or `PATH_TO_GECKODRIVER` variable below, then execute the code cell."
   ]
  },
  {
   "cell_type": "code",
   "execution_count": 22,
   "metadata": {
    "tags": [
     "excluded_from_script"
    ]
   },
   "outputs": [],
   "source": [
    "# set this to True if you are on Colab or using a Chromium browser, such as Google Chrome\n",
    "# set this to False if you are using Firefox locally\n",
    "USE_CHROMEDRIVER = True\n",
    "\n",
    "# path to the chromedriver executable, edit this if you use chromedriver locally\n",
    "# if you are on Colab, do not change this path\n",
    "# if you are on Windows, you may need to add .exe to the end of the path\n",
    "PATH_TO_CHROMEDRIVER = \"./chromedriver\"\n",
    "\n",
    "# path to the geckodriver executable, edit this if you use geckodriver locally\n",
    "# if you are on Windows, you may need to add .exe to the end of the path\n",
    "PATH_TO_GECKODRIVER = \"./geckodriver\"\n",
    "\n",
    "# do not modify this function\n",
    "def init_geckodriver(debug = False):\n",
    "    options = webdriver.FirefoxOptions()\n",
    "    if not debug:\n",
    "        options.add_argument('--headless')\n",
    "        options.add_argument('--no-sandbox')\n",
    "        options.add_argument(\"--disable-setuid-sandbox\")\n",
    "        options.add_argument('--user-agent=\"\"Mozilla/5.0 (Windows NT 10.0; Win64; x64) AppleWebKit/537.36 (KHTML, like Gecko) Chrome/74.0.3729.157 Safari/537.36\"\"')\n",
    "    return webdriver.Firefox(executable_path = PATH_TO_GECKODRIVER, options = options)\n",
    "\n",
    "# do not modify this function\n",
    "def init_chromedriver(debug = False):\n",
    "    options = webdriver.ChromeOptions()\n",
    "    if not debug:\n",
    "        options.add_argument('--headless')\n",
    "        options.add_argument('--no-sandbox')\n",
    "        options.add_argument(\"--disable-setuid-sandbox\")\n",
    "        options.add_argument('--user-agent=\"\"Mozilla/5.0 (Windows NT 10.0; Win64; x64) AppleWebKit/537.36 (KHTML, like Gecko) Chrome/74.0.3729.157 Safari/537.36\"\"')\n",
    "    return webdriver.Chrome(executable_path = PATH_TO_CHROMEDRIVER, options = options)"
   ]
  },
  {
   "cell_type": "code",
   "execution_count": 23,
   "metadata": {
    "tags": [
     "excluded_from_script"
    ]
   },
   "outputs": [],
   "source": [
    "def extract_nyt_article_titles(start_date, end_date, base_url = \"https://www.nytimes.com\"):\n",
    "    # convert the dates to follow the GET parameter template from NYT\n",
    "    start_date, end_date = start_date.replace(\"-\", \"\"), end_date.replace(\"-\", \"\")\n",
    "    # init the webdriver\n",
    "    driver = init_chromedriver() if USE_CHROMEDRIVER else init_geckodriver()\n",
    "    # construct the search url based on the dates\n",
    "    search_url = base_url + f\"/search?dropmab=true&endDate={end_date}&query=coronavirus&sections=Health%7Cnyt%3A%2F%2Fsection%2F9f943015-a899-5505-8730-6d30ed861520&sort=oldest&startDate={start_date}&types=article\"\n",
    "    # point the driver to the search page\n",
    "    driver.get(search_url)\n",
    "    # click all the \"Show More\" button until we get all articles\n",
    "    while True:\n",
    "        try:\n",
    "            driver.find_element_by_css_selector(\"button[data-testid='search-show-more-button']\").click()\n",
    "            time.sleep(1)\n",
    "        except exceptions.NoSuchElementException:\n",
    "            break\n",
    "    # begin parsing articles\n",
    "    soup = BeautifulSoup(driver.page_source, \"html.parser\")\n",
    "    results, title_date_mapping  = [], {}\n",
    "    for article_li in soup.select(\"li[data-testid='search-bodega-result']\"):\n",
    "        link, date = article_li.find(\"a\"), article_li.find(\"span\", {\"data-testid\" : \"todays-date\"})[\"aria-label\"]\n",
    "        title = link.find(\"h4\").get_text()\n",
    "        date = datetime.strptime(date + \" 2021\", \"%B %d %Y\")\n",
    "        if title not in title_date_mapping:\n",
    "            title_date_mapping[title] = date\n",
    "            results.append(title)\n",
    "    results.sort(key = lambda title: (title_date_mapping[title], title))\n",
    "    return results"
   ]
  },
  {
   "cell_type": "code",
   "execution_count": 24,
   "metadata": {
    "tags": [
     "excluded_from_script"
    ]
   },
   "outputs": [
    {
     "ename": "ValueError",
     "evalue": "time data 'February 1, 2021 2021' does not match format '%B %d %Y'",
     "output_type": "error",
     "traceback": [
      "\u001b[0;31m---------------------------------------------------------------------------\u001b[0m",
      "\u001b[0;31mValueError\u001b[0m                                Traceback (most recent call last)",
      "Input \u001b[0;32mIn [24]\u001b[0m, in \u001b[0;36m<module>\u001b[0;34m\u001b[0m\n\u001b[1;32m      1\u001b[0m \u001b[38;5;66;03m# print all the search result titles from the following page:\u001b[39;00m\n\u001b[1;32m      2\u001b[0m \u001b[38;5;66;03m# https://www.nytimes.com/search?dropmab=true&endDate=20210301&query=coronavirus&sections=Health%7Cnyt%3A%2F%2Fsection%2F9f943015-a899-5505-8730-6d30ed861520&sort=oldest&startDate=20210201&types=article\u001b[39;00m\n\u001b[0;32m----> 3\u001b[0m \u001b[43mextract_nyt_article_titles\u001b[49m\u001b[43m(\u001b[49m\u001b[38;5;124;43m\"\u001b[39;49m\u001b[38;5;124;43m2021-02-01\u001b[39;49m\u001b[38;5;124;43m\"\u001b[39;49m\u001b[43m,\u001b[49m\u001b[43m \u001b[49m\u001b[38;5;124;43m\"\u001b[39;49m\u001b[38;5;124;43m2021-03-01\u001b[39;49m\u001b[38;5;124;43m\"\u001b[39;49m\u001b[43m)\u001b[49m\n",
      "Input \u001b[0;32mIn [23]\u001b[0m, in \u001b[0;36mextract_nyt_article_titles\u001b[0;34m(start_date, end_date, base_url)\u001b[0m\n\u001b[1;32m     21\u001b[0m link, date \u001b[38;5;241m=\u001b[39m article_li\u001b[38;5;241m.\u001b[39mfind(\u001b[38;5;124m\"\u001b[39m\u001b[38;5;124ma\u001b[39m\u001b[38;5;124m\"\u001b[39m), article_li\u001b[38;5;241m.\u001b[39mfind(\u001b[38;5;124m\"\u001b[39m\u001b[38;5;124mspan\u001b[39m\u001b[38;5;124m\"\u001b[39m, {\u001b[38;5;124m\"\u001b[39m\u001b[38;5;124mdata-testid\u001b[39m\u001b[38;5;124m\"\u001b[39m : \u001b[38;5;124m\"\u001b[39m\u001b[38;5;124mtodays-date\u001b[39m\u001b[38;5;124m\"\u001b[39m})[\u001b[38;5;124m\"\u001b[39m\u001b[38;5;124maria-label\u001b[39m\u001b[38;5;124m\"\u001b[39m]\n\u001b[1;32m     22\u001b[0m title \u001b[38;5;241m=\u001b[39m link\u001b[38;5;241m.\u001b[39mfind(\u001b[38;5;124m\"\u001b[39m\u001b[38;5;124mh4\u001b[39m\u001b[38;5;124m\"\u001b[39m)\u001b[38;5;241m.\u001b[39mget_text()\n\u001b[0;32m---> 23\u001b[0m date \u001b[38;5;241m=\u001b[39m \u001b[43mdatetime\u001b[49m\u001b[38;5;241;43m.\u001b[39;49m\u001b[43mstrptime\u001b[49m\u001b[43m(\u001b[49m\u001b[43mdate\u001b[49m\u001b[43m \u001b[49m\u001b[38;5;241;43m+\u001b[39;49m\u001b[43m \u001b[49m\u001b[38;5;124;43m\"\u001b[39;49m\u001b[38;5;124;43m 2021\u001b[39;49m\u001b[38;5;124;43m\"\u001b[39;49m\u001b[43m,\u001b[49m\u001b[43m \u001b[49m\u001b[38;5;124;43m\"\u001b[39;49m\u001b[38;5;124;43m%\u001b[39;49m\u001b[38;5;124;43mB \u001b[39;49m\u001b[38;5;132;43;01m%d\u001b[39;49;00m\u001b[38;5;124;43m \u001b[39;49m\u001b[38;5;124;43m%\u001b[39;49m\u001b[38;5;124;43mY\u001b[39;49m\u001b[38;5;124;43m\"\u001b[39;49m\u001b[43m)\u001b[49m\n\u001b[1;32m     24\u001b[0m \u001b[38;5;28;01mif\u001b[39;00m title \u001b[38;5;129;01mnot\u001b[39;00m \u001b[38;5;129;01min\u001b[39;00m title_date_mapping:\n\u001b[1;32m     25\u001b[0m     title_date_mapping[title] \u001b[38;5;241m=\u001b[39m date\n",
      "File \u001b[0;32m/usr/lib/python3.8/_strptime.py:568\u001b[0m, in \u001b[0;36m_strptime_datetime\u001b[0;34m(cls, data_string, format)\u001b[0m\n\u001b[1;32m    565\u001b[0m \u001b[38;5;28;01mdef\u001b[39;00m \u001b[38;5;21m_strptime_datetime\u001b[39m(\u001b[38;5;28mcls\u001b[39m, data_string, \u001b[38;5;28mformat\u001b[39m\u001b[38;5;241m=\u001b[39m\u001b[38;5;124m\"\u001b[39m\u001b[38;5;132;01m%a\u001b[39;00m\u001b[38;5;124m \u001b[39m\u001b[38;5;124m%\u001b[39m\u001b[38;5;124mb \u001b[39m\u001b[38;5;132;01m%d\u001b[39;00m\u001b[38;5;124m \u001b[39m\u001b[38;5;124m%\u001b[39m\u001b[38;5;124mH:\u001b[39m\u001b[38;5;124m%\u001b[39m\u001b[38;5;124mM:\u001b[39m\u001b[38;5;124m%\u001b[39m\u001b[38;5;124mS \u001b[39m\u001b[38;5;124m%\u001b[39m\u001b[38;5;124mY\u001b[39m\u001b[38;5;124m\"\u001b[39m):\n\u001b[1;32m    566\u001b[0m     \u001b[38;5;124;03m\"\"\"Return a class cls instance based on the input string and the\u001b[39;00m\n\u001b[1;32m    567\u001b[0m \u001b[38;5;124;03m    format string.\"\"\"\u001b[39;00m\n\u001b[0;32m--> 568\u001b[0m     tt, fraction, gmtoff_fraction \u001b[38;5;241m=\u001b[39m \u001b[43m_strptime\u001b[49m\u001b[43m(\u001b[49m\u001b[43mdata_string\u001b[49m\u001b[43m,\u001b[49m\u001b[43m \u001b[49m\u001b[38;5;28;43mformat\u001b[39;49m\u001b[43m)\u001b[49m\n\u001b[1;32m    569\u001b[0m     tzname, gmtoff \u001b[38;5;241m=\u001b[39m tt[\u001b[38;5;241m-\u001b[39m\u001b[38;5;241m2\u001b[39m:]\n\u001b[1;32m    570\u001b[0m     args \u001b[38;5;241m=\u001b[39m tt[:\u001b[38;5;241m6\u001b[39m] \u001b[38;5;241m+\u001b[39m (fraction,)\n",
      "File \u001b[0;32m/usr/lib/python3.8/_strptime.py:349\u001b[0m, in \u001b[0;36m_strptime\u001b[0;34m(data_string, format)\u001b[0m\n\u001b[1;32m    347\u001b[0m found \u001b[38;5;241m=\u001b[39m format_regex\u001b[38;5;241m.\u001b[39mmatch(data_string)\n\u001b[1;32m    348\u001b[0m \u001b[38;5;28;01mif\u001b[39;00m \u001b[38;5;129;01mnot\u001b[39;00m found:\n\u001b[0;32m--> 349\u001b[0m     \u001b[38;5;28;01mraise\u001b[39;00m \u001b[38;5;167;01mValueError\u001b[39;00m(\u001b[38;5;124m\"\u001b[39m\u001b[38;5;124mtime data \u001b[39m\u001b[38;5;132;01m%r\u001b[39;00m\u001b[38;5;124m does not match format \u001b[39m\u001b[38;5;132;01m%r\u001b[39;00m\u001b[38;5;124m\"\u001b[39m \u001b[38;5;241m%\u001b[39m\n\u001b[1;32m    350\u001b[0m                      (data_string, \u001b[38;5;28mformat\u001b[39m))\n\u001b[1;32m    351\u001b[0m \u001b[38;5;28;01mif\u001b[39;00m \u001b[38;5;28mlen\u001b[39m(data_string) \u001b[38;5;241m!=\u001b[39m found\u001b[38;5;241m.\u001b[39mend():\n\u001b[1;32m    352\u001b[0m     \u001b[38;5;28;01mraise\u001b[39;00m \u001b[38;5;167;01mValueError\u001b[39;00m(\u001b[38;5;124m\"\u001b[39m\u001b[38;5;124munconverted data remains: \u001b[39m\u001b[38;5;132;01m%s\u001b[39;00m\u001b[38;5;124m\"\u001b[39m \u001b[38;5;241m%\u001b[39m\n\u001b[1;32m    353\u001b[0m                       data_string[found\u001b[38;5;241m.\u001b[39mend():])\n",
      "\u001b[0;31mValueError\u001b[0m: time data 'February 1, 2021 2021' does not match format '%B %d %Y'"
     ]
    }
   ],
   "source": [
    "# print all the search result titles from the following page:\n",
    "# https://www.nytimes.com/search?dropmab=true&endDate=20210301&query=coronavirus&sections=Health%7Cnyt%3A%2F%2Fsection%2F9f943015-a899-5505-8730-6d30ed861520&sort=oldest&startDate=20210201&types=article\n",
    "extract_nyt_article_titles(\"2021-02-01\", \"2021-03-01\")"
   ]
  },
  {
   "cell_type": "markdown",
   "metadata": {},
   "source": [
    "### Question 9: Process news articles data\n",
    "While the JSON data format we constructed earlier is useful for checking the correctness of our parsing, eventually we would like each article to be represented by just a string, one that we can input to `preprocess_text` and get a list of processed tokens. For our purpose, we will define the string representation of an article as\n",
    "\n",
    "`\"<title> <summary> <content paragraph 1> <content paragraph 2> <content paragraph 3> ...\"`\n",
    "\n",
    "where there is a single space separating each field (note that the content paragraphs come from the `\"Content\"` field of an article json, which is a list of paragraph strings).\n",
    "\n",
    "Implement the function `process_news_article` that takes as input a JSON dictionary resulting from parsing a Nature or NYT article, converts the JSON to the above string format, and outputs a list of processed tokens from the article string.\n",
    "\n",
    "**Note**:\n",
    "* Remember to specify the stopwords parameter as `english_stopwords` when you call `preprocess_text`."
   ]
  },
  {
   "cell_type": "code",
   "execution_count": 25,
   "metadata": {},
   "outputs": [],
   "source": [
    "def process_news_article(article_json):\n",
    "    \"\"\"\n",
    "    Convert article jsons to nested list of tokens of processed article contents\n",
    "    \n",
    "    args:\n",
    "        article_json (Dict[str, str]] : JSON content of a news article\n",
    "    \n",
    "    return:\n",
    "        List[str] : a list of processed tokens from the input article JSON\n",
    "    \"\"\"\n",
    "    res = []\n",
    "    res.extend(preprocess_text(article_json[\"Title\"], english_stopwords))\n",
    "    res.extend(preprocess_text(article_json[\"Summary\"], english_stopwords))\n",
    "    for content in article_json[\"Content\"]:\n",
    "        res.extend(preprocess_text(content, english_stopwords))\n",
    "    return res\n",
    "\n",
    "# do not modify this function\n",
    "def process_news_articles_data(article_jsons):\n",
    "    return [process_news_article(article) for article in article_jsons]"
   ]
  },
  {
   "cell_type": "code",
   "execution_count": 26,
   "metadata": {
    "tags": [
     "excluded_from_script"
    ]
   },
   "outputs": [
    {
     "name": "stdout",
     "output_type": "stream",
     "text": [
      "All tests passed!\n"
     ]
    }
   ],
   "source": [
    "def test_process_news_article():\n",
    "    nature_article = json.load(open(\"local_test_refs/nature1.txt\"))   \n",
    "    nature_article_processed = process_news_article(nature_article)\n",
    "    nature_expected = open(\"local_test_refs/nature1_processed.txt\").read().splitlines()\n",
    "    assert nature_article_processed == nature_expected\n",
    "    \n",
    "    nyt_article = json.load(open(\"local_test_refs/nyt1.txt\"))\n",
    "    nyt_article_processed = process_news_article(nyt_article)\n",
    "    nyt_expected = open(\"local_test_refs/nyt1_processed.txt\").read().splitlines()\n",
    "    assert nyt_article_processed == nyt_expected\n",
    "    print(\"All tests passed!\")\n",
    "\n",
    "test_process_news_article()"
   ]
  },
  {
   "cell_type": "markdown",
   "metadata": {},
   "source": [
    "## Part D: Mining PDF Data\n",
    "Having extracted data from Twitter and newspapers, we now turn to our third source: research papers. We have provided you with 15 pdf files, collected from the [arxiv API](https://arxiv.org/help/api). These are located in the `pdfs` directory and labeled from `arxiv_01.pdf` to `arxiv_15.pdf`."
   ]
  },
  {
   "cell_type": "markdown",
   "metadata": {},
   "source": [
    "### Question 10: Parse a single Arxiv research paper\n",
    "Implement the function `parse_pdf` that takes as input a PDF file path and outputs the processed tokenization of the text content of that file. In particular, you should perform the following steps:\n",
    "\n",
    "1. Remove all URLs, i.e., strings that start with \"http://\" or \"https://\"\n",
    "1. Call the `preprocess_text` function you implemented in part A. Remember to specify the `stopwords` parameter.\n",
    "\n",
    "**Notes**:\n",
    "* For this question, you should use the function [`extract_text`](https://pdfminersix.readthedocs.io/en/latest/reference/highlevel.html#extract-text) from the `pdfminer` package to convert a pdf file to string.\n",
    "* Unlike in the tweet scenario, there is no limit on the length of an URL in this case. The URL pattern you should use here is: a string that starts with `http://` or `https://`, followed by any number of non-space character. Do not make any other assumption (for example, don't assume an URL always contains a `.`).\n",
    "* We have provided a template helper function `remove_url_regex`, where you can enter the regex for removing URLs. There are some local test cases in `test_remove_url_regex` to help you validate your regex. If your regex passes these tests, you can use it in `parse_and_clean_pdf`."
   ]
  },
  {
   "cell_type": "code",
   "execution_count": 27,
   "metadata": {},
   "outputs": [],
   "source": [
    "def remove_url_regex():\n",
    "    # enter your regex for capturing url strings here\n",
    "    # you can call this function in parse_and_clean_pdf()\n",
    "    regex = r\"https?:\\/\\/[^\\s]+\"\n",
    "    return regex\n",
    "\n",
    "def parse_and_clean_pdf(file):\n",
    "    \"\"\"\n",
    "    Convert an input pdf file into processed and cleaned raw text.\n",
    "    \n",
    "    args:\n",
    "        file (str) : the pdf file path\n",
    "    \n",
    "    return:\n",
    "        List[str] : the cleaned tokenization of the input file content\n",
    "    \"\"\"\n",
    "    file_content = high_level.extract_text(file)\n",
    "    file_content_filtered_url = re.sub(remove_url_regex(), \"\", file_content)\n",
    "    return preprocess_text(file_content_filtered_url, english_stopwords)"
   ]
  },
  {
   "cell_type": "code",
   "execution_count": 28,
   "metadata": {
    "tags": [
     "excluded_from_script"
    ]
   },
   "outputs": [
    {
     "name": "stdout",
     "output_type": "stream",
     "text": [
      "All tests passed!\n"
     ]
    }
   ],
   "source": [
    "def test_remove_url_regex():\n",
    "    s = \"http://abc\"\n",
    "    assert re.sub(remove_url_regex(), '', s) == ''\n",
    "    \n",
    "    s = 'hellohttps://github.com/lanagarmire/COVID19-Drugs-LungInjury'\n",
    "    assert re.sub(remove_url_regex(), '', s) == 'hello'\n",
    "    \n",
    "    s = 'http://example.com https://cmu.edu'\n",
    "    assert re.sub(remove_url_regex(), '', s) == ' '\n",
    "    \n",
    "    s = 'https://www.'\n",
    "    assert re.sub(remove_url_regex(), '', s) == ''\n",
    "    print(\"All tests passed!\")\n",
    "    \n",
    "test_remove_url_regex()"
   ]
  },
  {
   "cell_type": "code",
   "execution_count": 29,
   "metadata": {
    "tags": [
     "excluded_from_script"
    ]
   },
   "outputs": [
    {
     "name": "stdout",
     "output_type": "stream",
     "text": [
      "All tests passed!\n"
     ]
    }
   ],
   "source": [
    "def test_parse_and_clean_pdf():\n",
    "    pdf_text = parse_and_clean_pdf(\"pdfs/arxiv_01.pdf\")\n",
    "    with open(\"local_test_refs/parsed_arxiv_01.txt\") as outfile:\n",
    "        assert pdf_text == outfile.read().splitlines()\n",
    "    print(\"All tests passed!\")\n",
    "\n",
    "test_parse_and_clean_pdf()"
   ]
  },
  {
   "cell_type": "markdown",
   "metadata": {},
   "source": [
    "### Question 11: Parse several Arxiv research papers\n",
    "Implement the function `process_arxiv_data` that takes as input the path to a directory. This function parses and cleans all pdf files in that directory, then returns a nested list of word tokens, where each inner list results from parsing one PDF file.\n",
    "\n",
    "**Notes**:\n",
    "* The pdf files should be processed based on the alphabetical order of their name, e.g., `arxiv_01.pdf` before `arxiv_02.pdf`.\n",
    "* Do not assume that `os.listdir` will return the filenames in sorted order; you should perform the sorting yourself.\n",
    "* Do not assume every file in the input directory is a pdf file; only those whose names end in `.pdf` should be parsed.\n",
    "* If you fail the test case here, it is likely that your URL removal regex from Question 10 is incorrect. Try to come up with more test cases to test your URL."
   ]
  },
  {
   "cell_type": "code",
   "execution_count": 30,
   "metadata": {},
   "outputs": [],
   "source": [
    "def process_arxiv_data(directory):\n",
    "    \"\"\"\n",
    "    Parse and process the text content of all pdf papers in alphabetical order in a given directory\n",
    "    \n",
    "    args:\n",
    "        directory (str) : the relative file path to a directory that contains the pdf papers\n",
    "    \n",
    "    return:\n",
    "        List[List[str]] : a list of list of word tokens\n",
    "    \"\"\"\n",
    "    files = os.listdir(directory)\n",
    "    files = [file for file in files if file.endswith(\".pdf\")]\n",
    "    files = sorted(files)\n",
    "    res = []\n",
    "    for file in files:\n",
    "        res.append(parse_and_clean_pdf(\"{}/{}\".format(directory, file)))\n",
    "    return res"
   ]
  },
  {
   "cell_type": "code",
   "execution_count": 31,
   "metadata": {
    "tags": [
     "excluded_from_script"
    ]
   },
   "outputs": [
    {
     "name": "stdout",
     "output_type": "stream",
     "text": [
      "All tests passed!\n"
     ]
    }
   ],
   "source": [
    "def test_process_arxiv_data():\n",
    "    paper_contents = process_arxiv_data(\"pdfs\")\n",
    "    first_words = [paper[0] for paper in paper_contents]\n",
    "    mid_words = [paper[100] for paper in paper_contents]\n",
    "    last_words = [paper[-1] for paper in paper_contents]\n",
    "    \n",
    "    assert len(paper_contents) == 15\n",
    "    assert first_words == [\n",
    "        'repurposed', 'fractal', 'coronavirus', 'data', 'xu1', 'parametric',\n",
    "        'view', 'insight', 'reconstruction', 'covid', 'outbreak', 'scale',\n",
    "        'abnormal', 'trend', 'deep'\n",
    "    ]\n",
    "    assert mid_words == [\n",
    "        'result', 'nal', 'ro', 'february', 'covid', 'sars',\n",
    "        'virus', 'export', 'system', 'new', 'transmission', 'cantly',\n",
    "        'signi', 'content', 'wenling'\n",
    "    ]\n",
    "    assert last_words == [\n",
    "        '2019', '13', '122567', '13', 'lancet', 'url',\n",
    "        '77', 'hour', '330', '16', 'provide', '2004',\n",
    "        '212', '2020', '29'\n",
    "    ]\n",
    "    assert sum(len(paper) for paper in paper_contents) == 35969\n",
    "    print(\"All tests passed!\")\n",
    "    \n",
    "test_process_arxiv_data()"
   ]
  },
  {
   "cell_type": "markdown",
   "metadata": {},
   "source": [
    "## Part E: Data Visualization and Feature Construction\n",
    "Now that we have collected text data from three different sources (Twitter, news articles and research papers), let's put them all together in order to perform some simple exploratory data analyses and feature construction. From now we will define a *document* as a list of tokens coming from a single tweet, news article or arxiv paper, and a *corpus* as a list of documents."
   ]
  },
  {
   "cell_type": "markdown",
   "metadata": {},
   "source": [
    "### Question 12: Word frequency and word cloud\n",
    "With any text corpus, you will first want to check for the word frequency distribution, in particular which words are the most common and which are the least. The former group may consist of terms that are relevant to the topic, or terms that simply appear frequently in general (e.g., stopwords). The latter group may consist of highly specialized terms or typos. Since stopwords and rare words are not useful to our analysis, we will remove both (where we define rare words as words that only appear *once in the corpus*).\n",
    "\n",
    "Implement the function `word_frequency` which takes as input a text corpus and returns a `collections.Counter` object mapping each word to its frequency in the corpus. However, rare words that only appear once in the entire corpus should **not** be included in this mapping.\n",
    "\n",
    "**Notes**:\n",
    "* Recall that `preprocess_text` already handles stopword removal, so you only need to remove rare words in this step."
   ]
  },
  {
   "cell_type": "code",
   "execution_count": 32,
   "metadata": {},
   "outputs": [],
   "source": [
    "def word_frequency(corpus):\n",
    "    \"\"\"\n",
    "    Count the word frequency in a given corpus\n",
    "    \n",
    "    args:\n",
    "        corpus (List[List[str]]) : a nested list of tokens, where each inner list is a processed document\n",
    "    \n",
    "    return:\n",
    "        collections.Counter : a mapping between each word and its frequency in the corpus, excluding words that\n",
    "            only appear once\n",
    "    \"\"\"\n",
    "    res = collections.Counter()\n",
    "    for l_tokens in corpus:\n",
    "        tmp = collections.Counter(l_tokens)\n",
    "        res += tmp\n",
    "    res = {word: count for word, count in res.items() if count > 1}\n",
    "    return collections.Counter(res)"
   ]
  },
  {
   "cell_type": "code",
   "execution_count": 33,
   "metadata": {
    "tags": [
     "excluded_from_script"
    ]
   },
   "outputs": [
    {
     "name": "stdout",
     "output_type": "stream",
     "text": [
      "All tests passed!\n"
     ]
    }
   ],
   "source": [
    "def test_word_frequency():\n",
    "    tweet_corpus = process_tweet_data(\n",
    "        get_tweet_texts_with_params(lang = \"en\", start = \"2020-03-09\", end = \"2020-03-09\", n_tweets = 1000)\n",
    "    )\n",
    "    counter = word_frequency(tweet_corpus)\n",
    "    assert len(counter) == 1739\n",
    "    assert counter[\"coronavirus\"] == 407\n",
    "    assert counter[\"coronavirusoutbreak\"] == 684\n",
    "    assert counter[\"increasingly\"] == 2\n",
    "    assert counter[\"stimulus\"] == 3\n",
    "    assert min(counter.values()) == 2\n",
    "    print(\"All tests passed!\")\n",
    "    \n",
    "test_word_frequency()"
   ]
  },
  {
   "cell_type": "markdown",
   "metadata": {},
   "source": [
    "Now we will gather both all three corpuses together; we store them in a global cache to avoid having to construct them more than once. If you make any code change above this point, rerun the following cell to reset the cache."
   ]
  },
  {
   "cell_type": "code",
   "execution_count": 34,
   "metadata": {},
   "outputs": [],
   "source": [
    "corpuses = None\n",
    "\n",
    "def get_corpuses():\n",
    "    global corpuses\n",
    "    if corpuses is None:\n",
    "        twitter_corpus = process_tweet_data(\n",
    "            get_tweet_texts_with_params(lang = \"en\", start = \"2020-03-09\", end = \"2020-03-09\")\n",
    "        )\n",
    "        news_corpus = process_news_articles_data(\n",
    "            extract_nature_articles(\"2020-03-01\", \"2020-03-15\")\n",
    "        )\n",
    "        arxiv_corpus = process_arxiv_data(\"pdfs\")\n",
    "        corpuses = (twitter_corpus, news_corpus, arxiv_corpus)\n",
    "    return corpuses"
   ]
  },
  {
   "cell_type": "markdown",
   "metadata": {},
   "source": [
    "Let's first compare the frequency of a number of keywords across these three corpuses."
   ]
  },
  {
   "cell_type": "code",
   "execution_count": 35,
   "metadata": {
    "tags": [
     "excluded_from_script"
    ]
   },
   "outputs": [
    {
     "data": {
      "text/html": [
       "<div>\n",
       "<style scoped>\n",
       "    .dataframe tbody tr th:only-of-type {\n",
       "        vertical-align: middle;\n",
       "    }\n",
       "\n",
       "    .dataframe tbody tr th {\n",
       "        vertical-align: top;\n",
       "    }\n",
       "\n",
       "    .dataframe thead th {\n",
       "        text-align: right;\n",
       "    }\n",
       "</style>\n",
       "<table border=\"1\" class=\"dataframe\">\n",
       "  <thead>\n",
       "    <tr style=\"text-align: right;\">\n",
       "      <th></th>\n",
       "      <th>Proportion in twitter corpus</th>\n",
       "      <th>Proportion in news corpus</th>\n",
       "      <th>Proportion in arxiv corpus</th>\n",
       "    </tr>\n",
       "  </thead>\n",
       "  <tbody>\n",
       "    <tr>\n",
       "      <th>coronavirus</th>\n",
       "      <td>0.027500</td>\n",
       "      <td>0.010316</td>\n",
       "      <td>0.004059</td>\n",
       "    </tr>\n",
       "    <tr>\n",
       "      <th>covid</th>\n",
       "      <td>0.011581</td>\n",
       "      <td>0.004126</td>\n",
       "      <td>0.007284</td>\n",
       "    </tr>\n",
       "    <tr>\n",
       "      <th>case</th>\n",
       "      <td>0.007142</td>\n",
       "      <td>0.004761</td>\n",
       "      <td>0.007923</td>\n",
       "    </tr>\n",
       "    <tr>\n",
       "      <th>health</th>\n",
       "      <td>0.002728</td>\n",
       "      <td>0.003809</td>\n",
       "      <td>0.001779</td>\n",
       "    </tr>\n",
       "    <tr>\n",
       "      <th>model</th>\n",
       "      <td>0.000128</td>\n",
       "      <td>0.001904</td>\n",
       "      <td>0.010426</td>\n",
       "    </tr>\n",
       "    <tr>\n",
       "      <th>say</th>\n",
       "      <td>0.003699</td>\n",
       "      <td>0.019045</td>\n",
       "      <td>0.000083</td>\n",
       "    </tr>\n",
       "    <tr>\n",
       "      <th>test</th>\n",
       "      <td>0.004369</td>\n",
       "      <td>0.006189</td>\n",
       "      <td>0.001084</td>\n",
       "    </tr>\n",
       "    <tr>\n",
       "      <th>2020</th>\n",
       "      <td>0.000945</td>\n",
       "      <td>0.000952</td>\n",
       "      <td>0.011343</td>\n",
       "    </tr>\n",
       "    <tr>\n",
       "      <th>19</th>\n",
       "      <td>0.009409</td>\n",
       "      <td>0.003968</td>\n",
       "      <td>0.008257</td>\n",
       "    </tr>\n",
       "    <tr>\n",
       "      <th>people</th>\n",
       "      <td>0.006611</td>\n",
       "      <td>0.007459</td>\n",
       "      <td>0.003447</td>\n",
       "    </tr>\n",
       "    <tr>\n",
       "      <th>vaccine</th>\n",
       "      <td>0.000562</td>\n",
       "      <td>0.001111</td>\n",
       "      <td>0.000056</td>\n",
       "    </tr>\n",
       "    <tr>\n",
       "      <th>china</th>\n",
       "      <td>0.003060</td>\n",
       "      <td>0.003968</td>\n",
       "      <td>0.008257</td>\n",
       "    </tr>\n",
       "    <tr>\n",
       "      <th>fever</th>\n",
       "      <td>0.000166</td>\n",
       "      <td>0.000476</td>\n",
       "      <td>0.000083</td>\n",
       "    </tr>\n",
       "    <tr>\n",
       "      <th>india</th>\n",
       "      <td>0.001737</td>\n",
       "      <td>0.000000</td>\n",
       "      <td>0.000000</td>\n",
       "    </tr>\n",
       "    <tr>\n",
       "      <th>usa</th>\n",
       "      <td>0.000754</td>\n",
       "      <td>0.000000</td>\n",
       "      <td>0.000250</td>\n",
       "    </tr>\n",
       "  </tbody>\n",
       "</table>\n",
       "</div>"
      ],
      "text/plain": [
       "             Proportion in twitter corpus  Proportion in news corpus  \\\n",
       "coronavirus                      0.027500                   0.010316   \n",
       "covid                            0.011581                   0.004126   \n",
       "case                             0.007142                   0.004761   \n",
       "health                           0.002728                   0.003809   \n",
       "model                            0.000128                   0.001904   \n",
       "say                              0.003699                   0.019045   \n",
       "test                             0.004369                   0.006189   \n",
       "2020                             0.000945                   0.000952   \n",
       "19                               0.009409                   0.003968   \n",
       "people                           0.006611                   0.007459   \n",
       "vaccine                          0.000562                   0.001111   \n",
       "china                            0.003060                   0.003968   \n",
       "fever                            0.000166                   0.000476   \n",
       "india                            0.001737                   0.000000   \n",
       "usa                              0.000754                   0.000000   \n",
       "\n",
       "             Proportion in arxiv corpus  \n",
       "coronavirus                    0.004059  \n",
       "covid                          0.007284  \n",
       "case                           0.007923  \n",
       "health                         0.001779  \n",
       "model                          0.010426  \n",
       "say                            0.000083  \n",
       "test                           0.001084  \n",
       "2020                           0.011343  \n",
       "19                             0.008257  \n",
       "people                         0.003447  \n",
       "vaccine                        0.000056  \n",
       "china                          0.008257  \n",
       "fever                          0.000083  \n",
       "india                          0.000000  \n",
       "usa                            0.000250  "
      ]
     },
     "metadata": {},
     "output_type": "display_data"
    },
    {
     "data": {
      "text/plain": [
       "<AxesSubplot:>"
      ]
     },
     "execution_count": 35,
     "metadata": {},
     "output_type": "execute_result"
    },
    {
     "data": {
      "image/png": "[encoded data removed]",
      "text/plain": [
       "<Figure size 432x288 with 1 Axes>"
      ]
     },
     "metadata": {
      "needs_background": "light"
     },
     "output_type": "display_data"
    }
   ],
   "source": [
    "# this cell has been taggged with excluded_from_script\n",
    "# it will not be run by the autograder\n",
    "def get_word_frequency_across_corpuses(input_words):    \n",
    "    twitter_corpus, news_corpus, arxiv_corpus = get_corpuses()\n",
    "    twitter_corpus_size = sum(len(d) for d in twitter_corpus)\n",
    "    news_corpus_size = sum(len(d) for d in news_corpus)\n",
    "    arxiv_corpus_size = sum(len(d) for d in arxiv_corpus)\n",
    "    twitter_f, news_f, arxiv_f = word_frequency(twitter_corpus), word_frequency(news_corpus), word_frequency(arxiv_corpus)\n",
    "    return pd.DataFrame({\n",
    "        \"Proportion in twitter corpus\" : [twitter_f.get(word, 0) / twitter_corpus_size for word in input_words],\n",
    "        \"Proportion in news corpus\" : [news_f.get(word, 0) / news_corpus_size for word in input_words],\n",
    "        \"Proportion in arxiv corpus\" : [arxiv_f.get(word, 0) / arxiv_corpus_size for word in input_words]\n",
    "    }, index = input_words)\n",
    "\n",
    "df_frequency = get_word_frequency_across_corpuses([\n",
    "    \"coronavirus\", \"covid\", \"case\", \"health\", \"model\", \"say\", \"test\",\n",
    "    \"2020\", \"19\", \"people\", \"vaccine\", \"china\", \"fever\", \"india\", \"usa\"\n",
    "])\n",
    "\n",
    "display(df_frequency)\n",
    "\n",
    "df_frequency.plot(kind='bar')"
   ]
  },
  {
   "cell_type": "markdown",
   "metadata": {},
   "source": [
    "We see that there are differences across datasets in the relative frequency of each term. \"Coronavirus\" is used most frequently in tweets, \"say\" most frequently in news corpus, and perhaps unsurprisingly, \"model\" most frequently in arxiv papers. The scientific notation of coronavirus, \"covid,\" isn't used in news articles as much, but is equally popular in both tweets and arxiv papers. On the other hand, \"health\" sees most frequent usage in news articles, likely due to health advice-related articles. Feel free to edit the word list above and see what other insights you can derive!"
   ]
  },
  {
   "cell_type": "markdown",
   "metadata": {},
   "source": [
    "We now move to the last step of data collection and preparation: constructing input features to be used for more formal analyses and language modeling. As language modeling will be covered later in the course, here we will only cover two simple feature construction methods: term frequency (TF) and term frequency - inverse document frequency (TF-IDF)."
   ]
  },
  {
   "cell_type": "markdown",
   "metadata": {},
   "source": [
    "### Question 13: Feature construction: term frequency (TF)\n",
    "Implement the function `construct_tf_matrix` that takes as input a corpus and outputs a matrix $TF$ where each row corresponds to one document, and each column corresponds to one of the unique words in the entire corpus. $TF_{ij}$ is the number of times word $j$ appears in document $i$. Similar to the previous question, rare words that only appear once in the entire corpus should be removed, i.e., there should be no columns for those words.\n",
    "\n",
    "**Notes**:\n",
    "* The rows should be ordered based on the document ordering in the corpus. Row 0 corresponds to `corpus[0]`, row 1 to `corpus[1]`, and so on.\n",
    "* The columns should be ordered based on the alphebatical order of their corresponding words. Column 0 corresponds to the alphabetically first word in the corpus, column 1 to the alphabetically second word, and so on.\n",
    "* To ensure code efficiency, avoid using too many loops. Take advantage of Pandas and Numpy functionalities."
   ]
  },
  {
   "cell_type": "code",
   "execution_count": 36,
   "metadata": {},
   "outputs": [],
   "source": [
    "def construct_tf_matrix(corpus):\n",
    "    \"\"\"\n",
    "    Construct a term frequency matrix from an input corpus\n",
    "    \n",
    "    args:\n",
    "        corpus (List[List[str]]) : a nested list of word tokens, where each inner list is a document\n",
    "    \n",
    "    return:\n",
    "        np.array[n_documents, n_words] : the term frequency matrix\n",
    "    \"\"\"\n",
    "    word_freq = word_frequency(corpus)\n",
    "    unique_words = sorted(word_freq.keys())\n",
    "    unique_words_dict = {word: index for index, word in enumerate(unique_words)}\n",
    "    n_documents, n_words = len(corpus), len(unique_words)\n",
    "    tf_matrix = np.zeros((n_documents, n_words), dtype=np.int64)\n",
    "    for d_id, document in enumerate(corpus):\n",
    "        counts = collections.Counter(document)\n",
    "        for word, w_id in unique_words_dict.items():\n",
    "            tf_matrix[d_id][w_id] += counts[word]\n",
    "    return tf_matrix"
   ]
  },
  {
   "cell_type": "code",
   "execution_count": 37,
   "metadata": {
    "tags": [
     "excluded_from_script"
    ]
   },
   "outputs": [
    {
     "name": "stdout",
     "output_type": "stream",
     "text": [
      "All tests passed!\n"
     ]
    }
   ],
   "source": [
    "def test_construct_tf_matrix():\n",
    "    corpus = [\n",
    "        \"this project is project 4 in foundations of computational data science\".split(),\n",
    "        \"it covers text data collection and preparation in the data science pipeline\".split(),\n",
    "        \"text processing can be tricky sometimes\".split()\n",
    "    ]\n",
    "    tf = construct_tf_matrix(corpus)\n",
    "    assert (tf == np.array([\n",
    "        [1, 1, 2, 1, 0],\n",
    "        [2, 1, 0, 1, 1],\n",
    "        [0, 0, 0, 0, 1]]\n",
    "    )).all()\n",
    "    \n",
    "    twitter_corpus, news_corpus, arxiv_corpus = get_corpuses()\n",
    "    all_corpuses = twitter_corpus + news_corpus + arxiv_corpus\n",
    "    tf = construct_tf_matrix(all_corpuses)\n",
    "    assert tf.dtype == np.int64\n",
    "    assert tf.shape == (10025, 10010), tf.shape\n",
    "    assert (tf.sum(axis = 1)[:10] == np.array([ 9, 14, 10, 17, 27,  4, 22, 23, 17, 13])).all()\n",
    "    assert (tf.sum(axis = 1)[-10:] == np.array([1465, 1935, 4683, 1857, 2096, 2498, 1995, 2324, 1811, 3369])).all()\n",
    "    print(\"All tests passed!\")\n",
    "\n",
    "test_construct_tf_matrix()"
   ]
  },
  {
   "cell_type": "markdown",
   "metadata": {},
   "source": [
    "### Question 14: Feature construction: term frequency - inverse document frequency (TF-IDF)\n",
    "We can now compute the TF-IDF matrix, which scales the columns of the term frequency matrix by their inverse document frequency. Recall that the inverse document frequency of a word $j$ is computed as\n",
    "$$\\text{IDF}_j = \\log \\left( \\frac{\\# \\text{ of documents}}{\\# \\text{ of documents with word } j} \\right),$$\n",
    "and so the $\\text{TF-IDF}_{ij}$ entry in the tf-idf matrix is computed as\n",
    "$$\\text{TF-IDF}_{ij} = \\text{TF}_{ij} \\times \\text{IDF}_j.$$\n",
    "\n",
    "Implement the function `tf_idf_matrix` which takes as input a TF matrix and outputs the corresponding TF-IDF matrix."
   ]
  },
  {
   "cell_type": "code",
   "execution_count": 44,
   "metadata": {},
   "outputs": [],
   "source": [
    "def construct_tf_idf_matrix(tf_matrix):\n",
    "    \"\"\"\n",
    "    Compute the term frequency - inverse document frequency in a corpus\n",
    "    \n",
    "    args:\n",
    "        tf_matrix (np.array[n_documents, n_words]) : the term frequency document of the corpus\n",
    "    \n",
    "    return:\n",
    "        np.array[n_documents, n_words] : the tf-idf matrix\n",
    "    \"\"\"\n",
    "    n_documents = tf_matrix.shape[0]\n",
    "    idf_scale_factor = np.log(n_documents / np.count_nonzero(tf_matrix, axis=0))\n",
    "    tf_idf_matrix = tf_matrix * idf_scale_factor[np.newaxis, :]\n",
    "    return tf_idf_matrix"
   ]
  },
  {
   "cell_type": "code",
   "execution_count": 45,
   "metadata": {
    "tags": [
     "excluded_from_script"
    ]
   },
   "outputs": [
    {
     "name": "stdout",
     "output_type": "stream",
     "text": [
      "All tests passed!\n"
     ]
    }
   ],
   "source": [
    "def test_construct_tf_idf_matrix():\n",
    "    corpus = [\n",
    "        \"this project is project 4 in foundations of computational data science\".split(),\n",
    "        \"it covers text data collection and preparation in the data science pipeline\".split(),\n",
    "        \"text processing can be tricky sometimes\".split()\n",
    "    ]\n",
    "    tf_idf = construct_tf_idf_matrix(construct_tf_matrix(corpus))\n",
    "    assert np.allclose(tf_idf, np.array([\n",
    "        [0.40546511, 0.40546511, 2.19722458, 0.40546511, 0.        ],\n",
    "        [0.81093022, 0.40546511, 0.        , 0.40546511, 0.40546511],\n",
    "        [0.        , 0.        , 0.        , 0.        , 0.40546511]\n",
    "    ]))\n",
    "    print(\"All tests passed!\")\n",
    "    \n",
    "test_construct_tf_idf_matrix()"
   ]
  },
  {
   "cell_type": "code",
   "execution_count": null,
   "metadata": {},
   "outputs": [],
   "source": []
  }
 ],
 "metadata": {
  "celltoolbar": "Tags",
  "kernel_info": {
   "name": "python3"
  },
  "kernelspec": {
   "display_name": "Python 3.8.10 64-bit",
   "language": "python",
   "name": "python3"
  },
  "language_info": {
   "codemirror_mode": {
    "name": "ipython",
    "version": 3
   },
   "file_extension": ".py",
   "mimetype": "text/x-python",
   "name": "python",
   "nbconvert_exporter": "python",
   "pygments_lexer": "ipython3",
   "version": "3.8.10"
  },
  "nteract": {
   "version": "nteract-front-end@1.0.0"
  },
  "vscode": {
   "interpreter": {
    "hash": "082e9a3bcad0a290d0001e938aa60b99250c6c2ef33a923c00b70f9826caf4b7"
   }
  }
 },
 "nbformat": 4,
 "nbformat_minor": 4
}
